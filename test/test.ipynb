{
 "cells": [
  {
   "cell_type": "markdown",
   "id": "c885520e",
   "metadata": {},
   "source": [
    "# 基础技巧"
   ]
  },
  {
   "cell_type": "markdown",
   "id": "b12a312b",
   "metadata": {},
   "source": [
    "## 临时文件"
   ]
  },
  {
   "cell_type": "code",
   "execution_count": null,
   "id": "685f9c76",
   "metadata": {
    "notebookRunGroups": {
     "groupValue": "2"
    },
    "tags": [
     "test"
    ]
   },
   "outputs": [
    {
     "name": "stdout",
     "output_type": "stream",
     "text": [
      "16\n",
      "b''\n"
     ]
    }
   ],
   "source": [
    "import tempfile\n",
    "\n",
    "f = tempfile.TemporaryFile()\n",
    "f.write(b'Hello world\\n')\n",
    "f.write(b'next')\n",
    "print(f.tell()) # 打印当前文件指针位置\n",
    "print(f.read()) # 目前指针在文件末尾，所以返回空"
   ]
  },
  {
   "cell_type": "code",
   "execution_count": null,
   "id": "87930296",
   "metadata": {},
   "outputs": [
    {
     "name": "stdout",
     "output_type": "stream",
     "text": [
      "b'Hello world\\nnext'\n"
     ]
    }
   ],
   "source": [
    "f.seek(0) # 将指针移动到文件开头\n",
    "print(f.read()) # 读取文件内容\n",
    "f.seek(0) # 将指针移动到文件开头"
   ]
  },
  {
   "cell_type": "markdown",
   "id": "75656b2a",
   "metadata": {},
   "source": [
    "## Pandas"
   ]
  },
  {
   "cell_type": "code",
   "execution_count": null,
   "id": "152b379a",
   "metadata": {},
   "outputs": [],
   "source": []
  }
 ],
 "metadata": {
  "kernelspec": {
   "display_name": ".venv (3.12.9)",
   "language": "python",
   "name": "python3"
  },
  "language_info": {
   "codemirror_mode": {
    "name": "ipython",
    "version": 3
   },
   "file_extension": ".py",
   "mimetype": "text/x-python",
   "name": "python",
   "nbconvert_exporter": "python",
   "pygments_lexer": "ipython3",
   "version": "3.12.9"
  }
 },
 "nbformat": 4,
 "nbformat_minor": 5
}
