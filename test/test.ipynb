{
 "cells": [
  {
   "cell_type": "markdown",
   "id": "c885520e",
   "metadata": {},
   "source": [
    "# 基础技巧"
   ]
  },
  {
   "cell_type": "markdown",
   "id": "b12a312b",
   "metadata": {},
   "source": [
    "## 临时文件"
   ]
  },
  {
   "cell_type": "code",
   "execution_count": 16,
   "id": "685f9c76",
   "metadata": {
    "notebookRunGroups": {
     "groupValue": "2"
    },
    "tags": [
     "test"
    ]
   },
   "outputs": [
    {
     "name": "stdout",
     "output_type": "stream",
     "text": [
      "16\n",
      "b''\n"
     ]
    }
   ],
   "source": [
    "import tempfile\n",
    "\n",
    "f = tempfile.TemporaryFile()\n",
    "f.write(b'Hello world\\n')\n",
    "f.write(b'next')\n",
    "print(f.tell())\n",
    "print(f.read())"
   ]
  },
  {
   "cell_type": "code",
   "execution_count": 17,
   "id": "87930296",
   "metadata": {},
   "outputs": [
    {
     "name": "stdout",
     "output_type": "stream",
     "text": [
      "b'Hello world\\nnext'\n"
     ]
    }
   ],
   "source": [
    "f.seek(0)\n",
    "print(f.read())"
   ]
  }
 ],
 "metadata": {
  "kernelspec": {
   "display_name": ".venv (3.12.9)",
   "language": "python",
   "name": "python3"
  },
  "language_info": {
   "codemirror_mode": {
    "name": "ipython",
    "version": 3
   },
   "file_extension": ".py",
   "mimetype": "text/x-python",
   "name": "python",
   "nbconvert_exporter": "python",
   "pygments_lexer": "ipython3",
   "version": "3.12.9"
  }
 },
 "nbformat": 4,
 "nbformat_minor": 5
}
