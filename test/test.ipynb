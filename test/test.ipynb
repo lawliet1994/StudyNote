{
 "cells": [
  {
   "cell_type": "markdown",
   "id": "c885520e",
   "metadata": {},
   "source": [
    "# 基础技巧"
   ]
  },
  {
   "cell_type": "code",
   "execution_count": null,
   "id": "685f9c76",
   "metadata": {
    "notebookRunGroups": {
     "groupValue": "2"
    },
    "tags": [
     "test"
    ]
   },
   "outputs": [],
   "source": []
  }
 ],
 "metadata": {
  "kernelspec": {
   "display_name": ".venv (3.12.9)",
   "language": "python",
   "name": "python3"
  },
  "language_info": {
   "name": "python",
   "version": "3.12.9"
  }
 },
 "nbformat": 4,
 "nbformat_minor": 5
}
