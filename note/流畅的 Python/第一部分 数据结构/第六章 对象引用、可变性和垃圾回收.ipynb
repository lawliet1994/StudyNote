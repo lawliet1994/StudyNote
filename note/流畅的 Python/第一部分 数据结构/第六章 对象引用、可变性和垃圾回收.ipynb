{
 "cells": [
  {
   "cell_type": "markdown",
   "id": "6edb8dbf",
   "metadata": {},
   "source": [
    "## 6.2 变量不是盒子"
   ]
  },
  {
   "cell_type": "code",
   "execution_count": null,
   "id": "f2731a6a",
   "metadata": {},
   "outputs": [
    {
     "name": "stdout",
     "output_type": "stream",
     "text": [
      "4395295808\n",
      "4395295808\n",
      "[1, 2, 3, 4]\n",
      "[1, 2, 3, 4, 5]\n"
     ]
    }
   ],
   "source": [
    "# 比起盒子，便利贴更符合变量的特性\n",
    "\n",
    "a = [1,2,3,4]\n",
    "print(id(a))\n",
    "b = a\n",
    "print(id(b))\n",
    "print(b)\n",
    "a.append(5)\n",
    "print(b) # a和b指向同一个列表对象,a的改变会影响b "
   ]
  },
  {
   "cell_type": "markdown",
   "id": "375f2866",
   "metadata": {},
   "source": [
    "## 6.3 同一性，相等性和别名"
   ]
  },
  {
   "cell_type": "markdown",
   "id": "2df51995",
   "metadata": {},
   "source": [
    "### 6.3.1 在 == 和 is 之间选择"
   ]
  },
  {
   "cell_type": "code",
   "execution_count": null,
   "id": "405ad76b",
   "metadata": {},
   "outputs": [],
   "source": []
  },
  {
   "cell_type": "markdown",
   "id": "f09bddf7",
   "metadata": {},
   "source": [
    "### 6.3.2 元组的相对不可变性"
   ]
  },
  {
   "cell_type": "code",
   "execution_count": 23,
   "id": "f8d0ad99",
   "metadata": {},
   "outputs": [
    {
     "name": "stdout",
     "output_type": "stream",
     "text": [
      "(1, 2, [3, 4])\n",
      "4396666240\n",
      "4396666240\n",
      "(1, 2, [3, 4, 5])\n",
      "4396666240\n",
      "4396666240\n"
     ]
    }
   ],
   "source": [
    "t1 = (1,2,[3,4])\n",
    "t2 = t1\n",
    "print(t2)\n",
    "print(id(t1))\n",
    "print(id(t2))\n",
    "t1[2].append(5)\n",
    "print(t2)  # t1和t2指向同一个元组对象，元组的元素是不可变的，但列表是可变的，所以列表的改变会影响t2\n",
    "print(id(t1))\n",
    "print(id(t2))\n",
    "# 元组的元素是不可变的，但如果元素是可变对象（如列表），则该对象的内容可以改变"
   ]
  },
  {
   "cell_type": "markdown",
   "id": "58803911",
   "metadata": {},
   "source": [
    "## 6.4 默认做浅拷贝"
   ]
  },
  {
   "cell_type": "code",
   "execution_count": 31,
   "id": "e4f279df",
   "metadata": {},
   "outputs": [
    {
     "name": "stdout",
     "output_type": "stream",
     "text": [
      "4396239680\n",
      "4396258752\n",
      "4396239360\n"
     ]
    }
   ],
   "source": [
    "l1 = [1,2,3,[4,5,6]]\n",
    "l2 = list(l1)\n",
    "l3 = l1[:]\n",
    "print(id(l1))\n",
    "print(id(l2))\n",
    "print(id(l3))\n",
    "# l1和l2指向不同的列表对象"
   ]
  },
  {
   "cell_type": "code",
   "execution_count": 32,
   "id": "6371f65f",
   "metadata": {},
   "outputs": [
    {
     "name": "stdout",
     "output_type": "stream",
     "text": [
      "[1, 2, 3, [4, 5, 6, 7]]\n",
      "[1, 2, 3, [4, 5, 6, 7]]\n"
     ]
    }
   ],
   "source": [
    "l1[3].append(7)\n",
    "print(l2)  # l1和l2指向不同的列表对象，但l1中的嵌套列表和l2中的嵌套列表指向同一个对象，所以改变嵌套列表会影响l2\n",
    "print(l3)  # l1和l2指向不同的列表对象，但l1中的嵌套列表和l2中的嵌套列表指向同一个对象，所以改变嵌套列表会影响l2"
   ]
  },
  {
   "cell_type": "markdown",
   "id": "e7854a98",
   "metadata": {},
   "source": [
    "#### 深拷贝"
   ]
  },
  {
   "cell_type": "code",
   "execution_count": 36,
   "id": "3ec7335c",
   "metadata": {},
   "outputs": [
    {
     "name": "stdout",
     "output_type": "stream",
     "text": [
      "[1, 2, 3, [4, 5, 6, 7]]\n",
      "[1, 2, 3, [4, 5, 6, 7]]\n"
     ]
    }
   ],
   "source": [
    "from copy import deepcopy\n",
    "l4 = deepcopy(l1)\n",
    "print(l4)\n",
    "l1[3].append(8)\n",
    "print(l4)  # deepcopy创建了l1的一个完全独立的副本，改变l1不会影响l4"
   ]
  },
  {
   "cell_type": "markdown",
   "id": "08c2e2c5",
   "metadata": {},
   "source": [
    "#### 校车例子"
   ]
  },
  {
   "cell_type": "code",
   "execution_count": 37,
   "id": "2fc58da6",
   "metadata": {},
   "outputs": [],
   "source": [
    "class Bus:\n",
    "    def __init__(self,passengers=None):\n",
    "        if passengers is None:\n",
    "            self.passengers = []\n",
    "        else:\n",
    "            self.passengers = passengers\n",
    "    def pick(self, passenger):\n",
    "        self.passengers.append(passenger)\n",
    "    def drop(self,passenger):\n",
    "        self.passengers.remove(passenger)"
   ]
  },
  {
   "cell_type": "code",
   "execution_count": 39,
   "id": "b4cc1991",
   "metadata": {},
   "outputs": [],
   "source": [
    "import copy\n",
    "bus1 = Bus(['amber', 'james','julia'])\n",
    "bus2 = copy.copy(bus1)  # 浅拷贝\n",
    "bus3 = copy.deepcopy(bus1)  # 深拷贝"
   ]
  },
  {
   "cell_type": "code",
   "execution_count": 40,
   "id": "3bf0b888",
   "metadata": {},
   "outputs": [
    {
     "name": "stdout",
     "output_type": "stream",
     "text": [
      "['amber', 'james', 'julia', 'jerry']\n",
      "['amber', 'james', 'julia', 'jerry']\n",
      "['amber', 'james', 'julia']\n"
     ]
    }
   ],
   "source": [
    "bus1.pick('jerry')\n",
    "print(bus1.passengers)  # ['amber', 'james', 'julia', 'jerry']\n",
    "print(bus2.passengers)  # 浅拷贝，bus2.passengers指向bus1.passengers，所以改变bus1会影响bus2\n",
    "print(bus3.passengers)  # 深拷贝，bus3.passengers是bus1.passengers的一个独立副本，所以改变bus1不会影响bus3"
   ]
  },
  {
   "cell_type": "code",
   "execution_count": 41,
   "id": "3c459cf4",
   "metadata": {},
   "outputs": [
    {
     "name": "stdout",
     "output_type": "stream",
     "text": [
      "['amber', 'james', 'jerry']\n",
      "['amber', 'james', 'jerry']\n",
      "['amber', 'james', 'julia']\n"
     ]
    }
   ],
   "source": [
    "bus2.drop('julia')\n",
    "print(bus1.passengers)  # ['amber', 'james', 'jerry']\n",
    "print(bus2.passengers)  # 浅拷贝，bus2.passengers指向bus1.passengers，所以改变bus1会影响bus2\n",
    "print(bus3.passengers)  # 深拷贝，bus3.passengers是bus1.passengers的一个独立副本，所以改变bus1不会影响bus3\n"
   ]
  },
  {
   "cell_type": "markdown",
   "id": "956e5e68",
   "metadata": {},
   "source": [
    "## 6.5 函数的参数是引用时"
   ]
  },
  {
   "cell_type": "markdown",
   "id": "041f567f",
   "metadata": {},
   "source": [
    "### 6.5.1 不要使用可变类型来做函数默认值"
   ]
  },
  {
   "cell_type": "code",
   "execution_count": 10,
   "id": "21496148",
   "metadata": {},
   "outputs": [],
   "source": [
    "class Bus:\n",
    "    def __init__(self,passagers = None):\n",
    "        if passagers is None:\n",
    "            self.passagers = []\n",
    "        else:\n",
    "            self.passagers = passagers\n",
    "        self.passagers = passagers\n",
    "    def pick(self,passager):\n",
    "        self.passagers.append(passager)\n",
    "    def drop(self,passager):\n",
    "        self.passagers.remove(passager)"
   ]
  },
  {
   "cell_type": "code",
   "execution_count": 11,
   "id": "304881b1",
   "metadata": {},
   "outputs": [],
   "source": [
    "class Bus:\n",
    "    def __init__(self, passengers=[]):\n",
    "        self.passengers = passengers\n",
    "\n",
    "    def pick(self, passenger):\n",
    "        self.passengers.append(passenger)\n",
    "\n",
    "    def drop(self, passenger):\n",
    "        self.passengers.remove(passenger)"
   ]
  },
  {
   "cell_type": "code",
   "execution_count": null,
   "id": "5a29fbeb",
   "metadata": {},
   "outputs": [
    {
     "name": "stdout",
     "output_type": "stream",
     "text": [
      "['amber', 'james', 'julia']\n",
      "['amber', 'james', 'julia', 'jerry']\n",
      "[]\n"
     ]
    }
   ],
   "source": [
    "bus1= Bus(['amber', 'james', 'julia'])\n",
    "\n",
    "print(bus1.passengers)  # ['amber', 'james', 'julia']\n",
    "bus1.pick('jerry')\n",
    "bus2 = Bus()  # 使用默认参数创建一个新的Bus对象\n",
    "print(bus1.passengers)  # ['amber', 'james', 'julia', 'jerry']\n",
    "print(bus2.passengers)  # []，bus2的passengers没有受到影响"
   ]
  },
  {
   "cell_type": "markdown",
   "id": "6e6512c2",
   "metadata": {},
   "source": [
    "## 6.6 del 和垃圾回收"
   ]
  },
  {
   "cell_type": "code",
   "execution_count": null,
   "id": "ee06c482",
   "metadata": {},
   "outputs": [],
   "source": []
  }
 ],
 "metadata": {
  "kernelspec": {
   "display_name": "studynote (3.12.9)",
   "language": "python",
   "name": "python3"
  },
  "language_info": {
   "codemirror_mode": {
    "name": "ipython",
    "version": 3
   },
   "file_extension": ".py",
   "mimetype": "text/x-python",
   "name": "python",
   "nbconvert_exporter": "python",
   "pygments_lexer": "ipython3",
   "version": "3.12.9"
  }
 },
 "nbformat": 4,
 "nbformat_minor": 5
}
