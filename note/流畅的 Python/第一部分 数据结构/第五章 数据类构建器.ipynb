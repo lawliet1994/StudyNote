{
 "cells": [
  {
   "cell_type": "markdown",
   "id": "8dd8cf51",
   "metadata": {},
   "source": [
    "## 5.2 数据类构建器简述"
   ]
  },
  {
   "cell_type": "markdown",
   "id": "2449217f",
   "metadata": {},
   "source": [
    "### 普通对象的痛点"
   ]
  },
  {
   "cell_type": "code",
   "execution_count": 5,
   "id": "8d6e7e57",
   "metadata": {},
   "outputs": [],
   "source": [
    "class Point:\n",
    "    def __init__(self,x,y):\n",
    "        self.x = x\n",
    "        self.y = y"
   ]
  },
  {
   "cell_type": "code",
   "execution_count": null,
   "id": "dd60b974",
   "metadata": {},
   "outputs": [
    {
     "name": "stdout",
     "output_type": "stream",
     "text": [
      "<__main__.Point object at 0x105e4a7b0>\n"
     ]
    },
    {
     "data": {
      "text/plain": [
       "False"
      ]
     },
     "execution_count": 6,
     "metadata": {},
     "output_type": "execute_result"
    }
   ],
   "source": [
    "a = Point(1,2)\n",
    "b = Point(1,2)\n",
    "print(a) # 无用的“__repr__”\n",
    "a == b # False, 因为没有定义 __eq__ 方法,比较的是对象的身份而不是内容"
   ]
  },
  {
   "cell_type": "code",
   "execution_count": null,
   "id": "71b76cea",
   "metadata": {},
   "outputs": [
    {
     "name": "stdout",
     "output_type": "stream",
     "text": [
      "Point(1, 2)\n"
     ]
    },
    {
     "data": {
      "text/plain": [
       "True"
      ]
     },
     "execution_count": 7,
     "metadata": {},
     "output_type": "execute_result"
    }
   ],
   "source": [
    "# 通过定义 __eq__ 方法来比较 Point 对象的内容\n",
    "class Point:\n",
    "    def __init__(self, x, y):\n",
    "        self.x = x\n",
    "        self.y = y\n",
    "\n",
    "    def __repr__(self):\n",
    "        return f\"Point({self.x}, {self.y})\"\n",
    "    \n",
    "    def __eq__(self, other):\n",
    "        return self.x == other.x and self.y == other.y\n",
    "\n",
    "a = Point(1,2)\n",
    "b = Point(1,2)\n",
    "print(a) # 通过\n",
    "a == b # 通过"
   ]
  },
  {
   "cell_type": "markdown",
   "id": "caf50c04",
   "metadata": {},
   "source": [
    "### collections.namedtuple"
   ]
  },
  {
   "cell_type": "code",
   "execution_count": 4,
   "id": "7947e5b9",
   "metadata": {},
   "outputs": [
    {
     "name": "stdout",
     "output_type": "stream",
     "text": [
      "Point(x=3, y=4)\n"
     ]
    },
    {
     "data": {
      "text/plain": [
       "True"
      ]
     },
     "execution_count": 4,
     "metadata": {},
     "output_type": "execute_result"
    }
   ],
   "source": [
    "from collections import namedtuple\n",
    "\n",
    "# Define a named tuple to represent a point in 2D space\n",
    "Point = namedtuple('Point', ['x', 'y'])\n",
    "\n",
    "p = Point(3, 4)\n",
    "print(p) # 有用的“__repr__”\n",
    "p == Point(3, 4) # 有用的“==”，不检查class id，而是直接对比属性是否一致"
   ]
  },
  {
   "cell_type": "markdown",
   "id": "a0baff81",
   "metadata": {},
   "source": [
    "### typing.NamedTuple"
   ]
  },
  {
   "cell_type": "code",
   "execution_count": null,
   "id": "f39485e9",
   "metadata": {},
   "outputs": [
    {
     "name": "stdout",
     "output_type": "stream",
     "text": [
      "Point(x=3, y=4)\n"
     ]
    },
    {
     "data": {
      "text/plain": [
       "True"
      ]
     },
     "execution_count": 9,
     "metadata": {},
     "output_type": "execute_result"
    }
   ],
   "source": [
    "from typing import NamedTuple\n",
    "# Define a named tuple to represent a point in 2D space\n",
    "# 第一种写法\n",
    "class Point(NamedTuple):\n",
    "    x: int\n",
    "    y: int\n",
    "# 第二种写法\n",
    "Point = NamedTuple('Point',[('x', int), ('y', int)])\n",
    "p = Point(3, 4)\n",
    "print(p) # 有用的“__repr__”\n",
    "p == Point(3, 4) # 有用的“==”，不检查class id，而是直接对比属性是否一致"
   ]
  },
  {
   "cell_type": "markdown",
   "id": "24ed9a58",
   "metadata": {},
   "source": [
    "#### 获取类型提示"
   ]
  },
  {
   "cell_type": "code",
   "execution_count": 11,
   "id": "8eddce10",
   "metadata": {},
   "outputs": [
    {
     "data": {
      "text/plain": [
       "{'x': int, 'y': int}"
      ]
     },
     "execution_count": 11,
     "metadata": {},
     "output_type": "execute_result"
    }
   ],
   "source": [
    "import typing\n",
    "typing.get_type_hints(Point) # {'x': <class 'int'>, 'y': <class 'int'>}"
   ]
  },
  {
   "cell_type": "markdown",
   "id": "862c59cb",
   "metadata": {},
   "source": [
    "#### 一种可读性更高的写法"
   ]
  },
  {
   "cell_type": "code",
   "execution_count": 16,
   "id": "bbd7100b",
   "metadata": {},
   "outputs": [
    {
     "name": "stdout",
     "output_type": "stream",
     "text": [
      "a:point(x=1, y=2)\n",
      "{'x': <class 'int'>, 'y': <class 'int'>}\n",
      "b:point(x=1, y=2)\n"
     ]
    }
   ],
   "source": [
    "import typing\n",
    "\n",
    "Point = typing.NamedTuple('point',x = int, y = int)\n",
    "a = Point(1, 2)\n",
    "print(f'a:{a}') \n",
    "print(typing.get_type_hints(Point)) # {'x': <class 'int'>, 'y': <class 'int'>}\n",
    "b = Point(**{'x': 1, 'y': 2}) # 使用字典解包来创建 Point 对象\n",
    "print(f'b:{b}') # Point(x=1, y=2)"
   ]
  },
  {
   "cell_type": "markdown",
   "id": "5354d9b3",
   "metadata": {},
   "source": [
    "### @dataclass"
   ]
  },
  {
   "cell_type": "code",
   "execution_count": 17,
   "id": "ebff8001",
   "metadata": {},
   "outputs": [
    {
     "name": "stdout",
     "output_type": "stream",
     "text": [
      "Point(x=1, y=2)\n",
      "True\n"
     ]
    }
   ],
   "source": [
    "from dataclasses import dataclass\n",
    "\n",
    "@dataclass\n",
    "class Point:\n",
    "    x: int\n",
    "    y: int\n",
    "a = Point(1, 2)\n",
    "b = Point(1, 2)\n",
    "print(a) # 有用的“__repr__”\n",
    "print(a == b) # 有用的“==”，不检查class id，而是直接对比属性是否一致"
   ]
  },
  {
   "cell_type": "code",
   "execution_count": 19,
   "id": "e02a3869",
   "metadata": {},
   "outputs": [
    {
     "name": "stdout",
     "output_type": "stream",
     "text": [
      "Point(x=1, y=2) - Positive X\n",
      "Point(x=-1, y=2) - Negative X\n"
     ]
    }
   ],
   "source": [
    "from dataclasses import dataclass\n",
    "\n",
    "@dataclass\n",
    "class Point:\n",
    "    x: int\n",
    "    y: int\n",
    "    \n",
    "    def __repr__(self):\n",
    "        if self.x < 0:\n",
    "            return f\"Point(x={self.x}, y={self.y}) - Negative X\" \n",
    "        return f\"Point(x={self.x}, y={self.y}) - Positive X\"\n",
    "a = Point(1, 2)\n",
    "b = Point(-1, 2)\n",
    "print(a) # 有用的“__repr__”\n",
    "print(b) # 有用的“__repr__”"
   ]
  },
  {
   "cell_type": "markdown",
   "id": "85338d2d",
   "metadata": {},
   "source": [
    "## 5.3 典型的具名元组"
   ]
  },
  {
   "cell_type": "code",
   "execution_count": null,
   "id": "26f1808c",
   "metadata": {},
   "outputs": [
    {
     "name": "stdout",
     "output_type": "stream",
     "text": [
      "Point(x=1, y=2)\n"
     ]
    }
   ],
   "source": [
    "from collections import namedtuple\n",
    "\n",
    "Point = namedtuple('Point', 'x y') # 创建一个 Point 类型,可以是一个可迭代对象，也可以是以空格分割的字符串\n",
    "a = Point(1, 2)\n",
    "print(a) "
   ]
  },
  {
   "cell_type": "code",
   "execution_count": 23,
   "id": "22556262",
   "metadata": {},
   "outputs": [
    {
     "data": {
      "text/plain": [
       "('x', 'y')"
      ]
     },
     "execution_count": 23,
     "metadata": {},
     "output_type": "execute_result"
    }
   ],
   "source": [
    "Point._fields # ('x', 'y'), 返回 Point 的字段名"
   ]
  },
  {
   "cell_type": "code",
   "execution_count": 24,
   "id": "5b46abdc",
   "metadata": {},
   "outputs": [
    {
     "data": {
      "text/plain": [
       "'{\"x\": 1, \"y\": 2}'"
      ]
     },
     "execution_count": 24,
     "metadata": {},
     "output_type": "execute_result"
    }
   ],
   "source": [
    "import json\n",
    "json.dumps(a._asdict()) # 将 Point 对象转换为字典后序列化为 JSON 字符串"
   ]
  },
  {
   "cell_type": "markdown",
   "id": "58e87739",
   "metadata": {},
   "source": [
    "## 5.4 带类型的具名元组"
   ]
  },
  {
   "cell_type": "code",
   "execution_count": 26,
   "id": "11010731",
   "metadata": {},
   "outputs": [
    {
     "name": "stdout",
     "output_type": "stream",
     "text": [
      "Point(x=1, y=2, ref='default')\n",
      "Point(x=1, y=2, ref='custom')\n"
     ]
    }
   ],
   "source": [
    "from typing import NamedTuple\n",
    "class Point(NamedTuple):\n",
    "    x: int\n",
    "    y: int\n",
    "    ref:str = 'default' # 添加一个默认值的字段\n",
    "a = Point(1, 2)\n",
    "print(a)\n",
    "b = Point(1, 2, 'custom')\n",
    "print(b) # Point(x=1, y=2, ref='custom')"
   ]
  },
  {
   "cell_type": "markdown",
   "id": "50be1ef6",
   "metadata": {},
   "source": [
    "## 5.5 类型提示入门"
   ]
  },
  {
   "cell_type": "markdown",
   "id": "c044387b",
   "metadata": {},
   "source": [
    "### 5.5.1 运行时没有作用"
   ]
  },
  {
   "cell_type": "code",
   "execution_count": 29,
   "id": "3a1b7546",
   "metadata": {},
   "outputs": [
    {
     "name": "stdout",
     "output_type": "stream",
     "text": [
      "Point(x='li', y=None)\n"
     ]
    }
   ],
   "source": [
    "from typing import NamedTuple\n",
    "class Point(NamedTuple):\n",
    "    x: int\n",
    "    y: int\n",
    "a = Point('li', None) # NamedTuple 可以接受任何类型的参数\n",
    "print(a)\n"
   ]
  },
  {
   "cell_type": "markdown",
   "id": "e69e2ce6",
   "metadata": {},
   "source": [
    "### 5.5.2 变量注解句法"
   ]
  },
  {
   "cell_type": "code",
   "execution_count": 30,
   "id": "c7b2f46c",
   "metadata": {},
   "outputs": [],
   "source": [
    "from typing import NamedTuple\n",
    "class Point(NamedTuple):\n",
    "    x: int\n",
    "    y: int\n",
    "    ref:str = 'default' # 添加一个默认值的字段"
   ]
  },
  {
   "cell_type": "markdown",
   "id": "2333ff97",
   "metadata": {},
   "source": [
    "### 5.5.3 变量注解的意义"
   ]
  },
  {
   "cell_type": "markdown",
   "id": "9924f412",
   "metadata": {},
   "source": [
    "#### 普通类的字段"
   ]
  },
  {
   "cell_type": "code",
   "execution_count": 9,
   "id": "18e81716",
   "metadata": {},
   "outputs": [
    {
     "name": "stdout",
     "output_type": "stream",
     "text": [
      "{'x': <class 'int'>, 'y': <class 'int'>}\n",
      "AttributeError: type object 'Point' has no attribute 'x'\n",
      "7\n",
      "default\n"
     ]
    }
   ],
   "source": [
    "\n",
    "class Point:\n",
    "    x: int\n",
    "    y: int = 7\n",
    "    ref = 'default' # 添加一个默认值的字段\n",
    "print(Point.__annotations__) # 读取字段类型\n",
    "try:\n",
    "    print(Point.x)\n",
    "except AttributeError as e:\n",
    "    print(f\"AttributeError: {e}\")\n",
    "print(Point.y)\n",
    "print(Point.ref) # 访问字段"
   ]
  },
  {
   "cell_type": "markdown",
   "id": "04746e27",
   "metadata": {},
   "source": [
    "#### NamedTuple 的字段"
   ]
  },
  {
   "cell_type": "markdown",
   "id": "f9c86479",
   "metadata": {},
   "source": [
    "- 下方生成的x、y"
   ]
  },
  {
   "cell_type": "code",
   "execution_count": 12,
   "id": "0eac0018",
   "metadata": {},
   "outputs": [
    {
     "name": "stdout",
     "output_type": "stream",
     "text": [
      "{'x': <class 'int'>, 'y': <class 'int'>}\n",
      "_tuplegetter(0, 'Alias for field number 0')\n",
      "_tuplegetter(1, 'Alias for field number 1')\n",
      "default\n"
     ]
    }
   ],
   "source": [
    "import typing\n",
    "\n",
    "class Point(typing.NamedTuple):\n",
    "    x: int\n",
    "    y: int = 7\n",
    "    ref= 'default'  # 添加一个默认值的字段\n",
    "print(Point.__annotations__)  # 读取字段类型\n",
    "print(Point.x)\n",
    "print(Point.y)\n",
    "print(Point.ref)  # 访问字段"
   ]
  },
  {
   "cell_type": "markdown",
   "id": "fe34c1e7",
   "metadata": {},
   "source": [
    "## 5.6 @dataclass 详解\n"
   ]
  },
  {
   "cell_type": "markdown",
   "id": "f7c9ae4e",
   "metadata": {},
   "source": [
    "### 5.6.1 字段选项"
   ]
  },
  {
   "cell_type": "code",
   "execution_count": null,
   "id": "dba8058c",
   "metadata": {},
   "outputs": [
    {
     "name": "stdout",
     "output_type": "stream",
     "text": [
      "mutable default <class 'list'> for field ref is not allowed: use default_factory\n"
     ]
    }
   ],
   "source": [
    "from dataclasses import dataclass\n",
    "try:\n",
    "    @dataclass\n",
    "    class Point:\n",
    "        x: int\n",
    "        y: int = 7\n",
    "        ref:list = [] # 不能用可变的默认值\n",
    "except Exception as e:\n",
    "    print(e)"
   ]
  },
  {
   "cell_type": "code",
   "execution_count": 19,
   "id": "5e366181",
   "metadata": {},
   "outputs": [],
   "source": [
    "from dataclasses import dataclass,field\n",
    "@dataclass\n",
    "class Point:\n",
    "    x: int\n",
    "    y: int = 7\n",
    "    ref: list = field(default_factory=list)  # 使用 field() 来设置可变的默认值"
   ]
  }
 ],
 "metadata": {
  "kernelspec": {
   "display_name": "studynote (3.12.9)",
   "language": "python",
   "name": "python3"
  },
  "language_info": {
   "codemirror_mode": {
    "name": "ipython",
    "version": 3
   },
   "file_extension": ".py",
   "mimetype": "text/x-python",
   "name": "python",
   "nbconvert_exporter": "python",
   "pygments_lexer": "ipython3",
   "version": "3.12.9"
  }
 },
 "nbformat": 4,
 "nbformat_minor": 5
}
