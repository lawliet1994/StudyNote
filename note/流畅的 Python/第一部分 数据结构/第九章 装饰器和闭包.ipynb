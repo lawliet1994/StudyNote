{
 "cells": [
  {
   "cell_type": "markdown",
   "id": "806621c6",
   "metadata": {},
   "source": [
    "## 9.2 装饰器基本知识"
   ]
  },
  {
   "cell_type": "markdown",
   "id": "ca12c345",
   "metadata": {},
   "source": [
    "1. 装饰器是一个函数或其他可调用对象；\n",
    "2. 装饰器可以把被装饰的函数替换为另一个函数；\n",
    "3. 装饰器在加载模块时立即执行"
   ]
  },
  {
   "cell_type": "code",
   "execution_count": 4,
   "id": "7cf54d0e",
   "metadata": {},
   "outputs": [
    {
     "name": "stdout",
     "output_type": "stream",
     "text": [
      "this is the inner function\n"
     ]
    },
    {
     "data": {
      "text/plain": [
       "'inner function'"
      ]
     },
     "execution_count": 4,
     "metadata": {},
     "output_type": "execute_result"
    }
   ],
   "source": [
    "def deco(func):\n",
    "    def inner():\n",
    "        print(\"this is the inner function\")\n",
    "        return \"inner function\"\n",
    "    return inner\n",
    "@deco\n",
    "def target():\n",
    "    print(\"this is the origin funcction\")\n",
    "    return \"target\"\n",
    "\n",
    "target() # This will print \"this is the inner function\" and return \"inner function\"\n"
   ]
  },
  {
   "cell_type": "markdown",
   "id": "6bea8364",
   "metadata": {},
   "source": [
    "## 9.6 闭包"
   ]
  },
  {
   "cell_type": "code",
   "execution_count": 12,
   "id": "2c99662e",
   "metadata": {},
   "outputs": [
    {
     "name": "stdout",
     "output_type": "stream",
     "text": [
      "[1]\n",
      "[1, 1]\n",
      "[1, 1, 1]\n"
     ]
    },
    {
     "data": {
      "text/plain": [
       "[1, 1, 1]"
      ]
     },
     "execution_count": 12,
     "metadata": {},
     "output_type": "execute_result"
    }
   ],
   "source": [
    "def deco_wrapper():\n",
    "    temp_list = []\n",
    "    def wrapper(*args, **kwargs):\n",
    "        temp_list.append(1)\n",
    "        print(temp_list)\n",
    "        return temp_list\n",
    "    return wrapper\n",
    "a = deco_wrapper()\n",
    "a()\n",
    "a()\n",
    "a()\n"
   ]
  },
  {
   "cell_type": "code",
   "execution_count": null,
   "id": "08943af9",
   "metadata": {},
   "outputs": [],
   "source": [
    "def deco_2():\n",
    "    temp_str = 0\n",
    "    def wrapper():\n",
    "        nonlocal temp_str # 将temp_str声明为非局部变量\n",
    "        temp_str += 1\n",
    "        print(temp_str)\n",
    "        return temp_str\n",
    "    return wrapper\n",
    "b = deco_2()\n",
    "b()"
   ]
  },
  {
   "cell_type": "markdown",
   "id": "7aa4d249",
   "metadata": {},
   "source": [
    "## 9.8 实现简单的装饰器"
   ]
  },
  {
   "cell_type": "code",
   "execution_count": 19,
   "id": "5e148890",
   "metadata": {},
   "outputs": [],
   "source": [
    "import time\n",
    "def deco_time(func):\n",
    "    count = 0\n",
    "    def wrapper(*args, **kwargs):\n",
    "        nonlocal count\n",
    "        start = time.time()\n",
    "        print(\"Starting function execution...\")\n",
    "        result = func(*args, **kwargs)\n",
    "        end = time.time()\n",
    "        count += 1\n",
    "        print(f\"Function {func.__name__} called {count} times, took {end - start:.4f} seconds\")\n",
    "        return result\n",
    "    return wrapper\n",
    "@deco_time\n",
    "def example_function(x, y):\n",
    "    print(\"Executing example_function...\")\n",
    "    time.sleep(1)"
   ]
  },
  {
   "cell_type": "code",
   "execution_count": 22,
   "id": "1cc30f4f",
   "metadata": {},
   "outputs": [
    {
     "name": "stdout",
     "output_type": "stream",
     "text": [
      "Starting function execution...\n",
      "Executing example_function...\n",
      "Function example_function called 3 times, took 1.0034 seconds\n"
     ]
    }
   ],
   "source": [
    "example_function(1, 2)"
   ]
  },
  {
   "cell_type": "markdown",
   "id": "58454871",
   "metadata": {},
   "source": [
    "#### functools wraps"
   ]
  },
  {
   "cell_type": "code",
   "execution_count": 23,
   "id": "50f20bee",
   "metadata": {},
   "outputs": [
    {
     "name": "stdout",
     "output_type": "stream",
     "text": [
      "Before function start\n",
      "程序输入：2\n",
      "After function done\n"
     ]
    }
   ],
   "source": [
    "# 改进后的装饰器\n",
    "import functools\n",
    "def deco_time_improved(func):\n",
    "    @functools.wraps(func)\n",
    "    def wrapper(*args,**kwargs):\n",
    "        print(\"Before function start\")\n",
    "        result = func(*args,**kwargs)\n",
    "        print(\"After function done\")\n",
    "    return wrapper\n",
    "\n",
    "@deco_time_improved\n",
    "def test(num:int):\n",
    "    print(f'程序输入：{num}')\n",
    "    \n",
    "test(2)"
   ]
  },
  {
   "cell_type": "markdown",
   "id": "0a15418a",
   "metadata": {},
   "source": [
    "## 9.9 标准库中的装饰器"
   ]
  },
  {
   "cell_type": "markdown",
   "id": "430d949e",
   "metadata": {},
   "source": [
    "### 9.9.1 使用 functools.cache 来做备忘"
   ]
  },
  {
   "cell_type": "markdown",
   "id": "e94ff8f6",
   "metadata": {},
   "source": [
    "- 如果缓存较大，则functools.cache有可能耗尽所有可用内存。在我看来，@cache更适合短期运行的命令行脚本使用。对于长期运行的进程，推荐使用functools.lru_cache，并合理设置maxsize参数"
   ]
  },
  {
   "cell_type": "code",
   "execution_count": 1,
   "id": "16c128af",
   "metadata": {},
   "outputs": [],
   "source": [
    "import time\n",
    "import functools\n",
    "def clock(func):\n",
    "    @functools.wraps(func)\n",
    "    def clocked(*args, **kwargs):\n",
    "        t0 = time.perf_counter()\n",
    "        result = func(*args, **kwargs)\n",
    "        elapsed = time.perf_counter() - t0\n",
    "        name = func.__name__\n",
    "        arg_lst = [repr(arg) for arg in args]\n",
    "        arg_lst.extend(f'{k}={v!r}' for k, v in kwargs.items())\n",
    "        arg_str = ', '.join(arg_lst)\n",
    "        print(f'[{elapsed:0.8f}s] {name}({arg_str}) -> {result!r}')\n",
    "        return result\n",
    "    return clocked\n",
    "\n",
    "@functools.cache\n",
    "@clock\n",
    "def cal(num:int):\n",
    "    time.sleep(4)\n",
    "    return num"
   ]
  },
  {
   "cell_type": "code",
   "execution_count": 2,
   "id": "f68a3204",
   "metadata": {},
   "outputs": [
    {
     "name": "stdout",
     "output_type": "stream",
     "text": [
      "[4.00505054s] cal(4) -> 4\n"
     ]
    },
    {
     "data": {
      "text/plain": [
       "4"
      ]
     },
     "execution_count": 2,
     "metadata": {},
     "output_type": "execute_result"
    }
   ],
   "source": [
    "cal(4)\n"
   ]
  },
  {
   "cell_type": "code",
   "execution_count": 3,
   "id": "861daf16",
   "metadata": {},
   "outputs": [
    {
     "data": {
      "text/plain": [
       "4"
      ]
     },
     "execution_count": 3,
     "metadata": {},
     "output_type": "execute_result"
    }
   ],
   "source": [
    "cal(4)"
   ]
  },
  {
   "cell_type": "code",
   "execution_count": 4,
   "id": "7bdd51de",
   "metadata": {},
   "outputs": [
    {
     "name": "stdout",
     "output_type": "stream",
     "text": [
      "[4.00510150s] cal(3) -> 3\n"
     ]
    },
    {
     "data": {
      "text/plain": [
       "3"
      ]
     },
     "execution_count": 4,
     "metadata": {},
     "output_type": "execute_result"
    }
   ],
   "source": [
    "cal(3)"
   ]
  },
  {
   "cell_type": "markdown",
   "id": "66ad95f9",
   "metadata": {},
   "source": [
    "### 9.9.2 使用 functools.lru_cache"
   ]
  },
  {
   "cell_type": "markdown",
   "id": "2976b161",
   "metadata": {},
   "source": [
    "### 9.9.3 单分派泛化函数"
   ]
  },
  {
   "cell_type": "markdown",
   "id": "c1c0fd7a",
   "metadata": {},
   "source": [
    "- 应尽量注册处理抽象基类（例如numbers.Integral和abc.MutableSequence）的专门函数，而不直接处理具体实现（例如int和list）。这样的话，代码支持的兼容类型更广泛。例如，Python扩展可以子类化numbers.Integral，使用固定的位数实现int类型。"
   ]
  },
  {
   "cell_type": "code",
   "execution_count": 13,
   "id": "0737c2a8",
   "metadata": {},
   "outputs": [],
   "source": [
    "from functools import singledispatch\n",
    "import numbers\n",
    "from collections import abc\n",
    "from numpy import number\n",
    "\n",
    "@singledispatch # 这个装饰器用于注册不同类型的处理函数\n",
    "def print_type(arg):\n",
    "    # 默认处理函数，如果没有注册特定类型的处理函数，则调用此函数\n",
    "    print(f\"Unsupported type: {type(arg)}\")\n",
    "\n",
    "@print_type.register # 使用register方法注册不同类型的处理函数\n",
    "def _(arg: numbers.Integral):\n",
    "    print(f\"Integer: {arg}\")\n",
    "\n",
    "@print_type.register\n",
    "def _(arg: bool):\n",
    "    print(f\"Boolean: {arg}\")\n",
    "\n",
    "@print_type.register\n",
    "def _(arg: str):\n",
    "    print(f\"String: {arg}\")\n",
    "\n",
    "@print_type.register\n",
    "def _(arg: abc.Sequence):\n",
    "    print(f\"List: {arg}\")\n",
    "\n",
    "@print_type.register(float)\n",
    "def _(arg):\n",
    "    print(f\"Float: {arg}\")    "
   ]
  },
  {
   "cell_type": "code",
   "execution_count": 14,
   "id": "542817ca",
   "metadata": {},
   "outputs": [
    {
     "name": "stdout",
     "output_type": "stream",
     "text": [
      "Integer: 42\n",
      "Boolean: True\n",
      "Unsupported type: <class 'dict'>\n",
      "List: [1, 2, 3]\n",
      "String: Hello\n",
      "Float: 3.14\n",
      "Unsupported type: <class 'complex'>\n"
     ]
    }
   ],
   "source": [
    "print_type(42)        # Integer: 42\n",
    "print_type(True)      # Boolean: True\n",
    "print_type({\"aaa\":42}) # Unsupported type: <class 'dict'>\n",
    "print_type([1,2,3])\n",
    "print_type(\"Hello\")   # String: Hello\n",
    "print_type(3.14)      # Float: 3.14\n",
    "print_type(3.14j)     # Unsupported type: <class 'complex'>"
   ]
  },
  {
   "cell_type": "markdown",
   "id": "3248e8bf",
   "metadata": {},
   "source": [
    "## 9.10 参数化装饰器"
   ]
  },
  {
   "cell_type": "code",
   "execution_count": null,
   "id": "407f8078",
   "metadata": {},
   "outputs": [
    {
     "name": "stdout",
     "output_type": "stream",
     "text": [
      "装饰器参数：test\n",
      "this is the target_2 function\n",
      "装饰器返回值：hello\n"
     ]
    },
    {
     "data": {
      "text/plain": [
       "'hello'"
      ]
     },
     "execution_count": 19,
     "metadata": {},
     "output_type": "execute_result"
    }
   ],
   "source": [
    "def deco_3(flag:str):\n",
    "    def real_deco(func):\n",
    "        def wrapper(*args, **kwargs):\n",
    "            print(f\"装饰器参数：{flag}\")\n",
    "            result = func(*args, **kwargs)\n",
    "            print(f\"装饰器返回值：{result}\")\n",
    "            return result\n",
    "        return wrapper\n",
    "    return real_deco\n",
    "@deco_3(\"test\")\n",
    "def target_2(arg):\n",
    "    print(f\"this is the target_2 function\")\n",
    "    return f\"{arg}\"\n",
    "target_2(\"hello\")  # This will print \"this is the target_2 function\" and return \"hello\""
   ]
  },
  {
   "cell_type": "markdown",
   "id": "c0d9c777",
   "metadata": {},
   "source": [
    "### 9.10.2 参数化 clock 装饰器"
   ]
  },
  {
   "cell_type": "code",
   "execution_count": null,
   "id": "45898d24",
   "metadata": {},
   "outputs": [
    {
     "name": "stdout",
     "output_type": "stream",
     "text": [
      "test([\"'num'\"]) -> 4\n"
     ]
    },
    {
     "data": {
      "text/plain": [
       "4"
      ]
     },
     "execution_count": 29,
     "metadata": {},
     "output_type": "execute_result"
    }
   ],
   "source": [
    "def clock(fmt = \"{name}({args}) -> {result}\"):\n",
    "    def decorator(func):\n",
    "        def clocked(**kwargs):\n",
    "            name = func.__name__\n",
    "            args = [repr(arg) for arg in kwargs]\n",
    "            result = func(**kwargs)\n",
    "            print(fmt.format(**locals()))\n",
    "            return result\n",
    "        return clocked\n",
    "    return decorator\n",
    "@clock(fmt=\"{name}({args}) -> {result}\")\n",
    "def test(num=1):\n",
    "    return num + 1\n",
    "test(num=3)"
   ]
  },
  {
   "cell_type": "markdown",
   "id": "7d9e3c3e",
   "metadata": {},
   "source": [
    "### 9.10.3 基于类的 clock 装饰器"
   ]
  },
  {
   "cell_type": "code",
   "execution_count": null,
   "id": "9fc13ce4",
   "metadata": {},
   "outputs": [
    {
     "name": "stdout",
     "output_type": "stream",
     "text": [
      "test([\"'num'\"]) -> 4\n"
     ]
    },
    {
     "data": {
      "text/plain": [
       "4"
      ]
     },
     "execution_count": 30,
     "metadata": {},
     "output_type": "execute_result"
    }
   ],
   "source": [
    "# 改写 9.10.2 的装饰器，基于类实现\n",
    "class Clock():\n",
    "    def __init__(self,fmt):\n",
    "        self.fmt = fmt\n",
    "    def __call__(self,func):\n",
    "        def clocked(**kwargs):\n",
    "            name = func.__name__\n",
    "            args = [repr(arg) for arg in kwargs]\n",
    "            result = func(**kwargs)\n",
    "            print(self.fmt.format(**locals()))\n",
    "            return result\n",
    "        return clocked\n",
    "@Clock(fmt=\"{name}({args}) -> {result}\")\n",
    "def test(num=1):\n",
    "    return num + 1\n",
    "test(num=3)"
   ]
  }
 ],
 "metadata": {
  "kernelspec": {
   "display_name": "studynote (3.12.9)",
   "language": "python",
   "name": "python3"
  },
  "language_info": {
   "codemirror_mode": {
    "name": "ipython",
    "version": 3
   },
   "file_extension": ".py",
   "mimetype": "text/x-python",
   "name": "python",
   "nbconvert_exporter": "python",
   "pygments_lexer": "ipython3",
   "version": "3.12.9"
  }
 },
 "nbformat": 4,
 "nbformat_minor": 5
}
