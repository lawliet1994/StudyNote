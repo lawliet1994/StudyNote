{
 "cells": [
  {
   "cell_type": "markdown",
   "id": "add32e5c",
   "metadata": {},
   "source": [
    "## 7.2 把函数视为对象"
   ]
  },
  {
   "cell_type": "code",
   "execution_count": null,
   "id": "5ac88fca",
   "metadata": {},
   "outputs": [],
   "source": []
  },
  {
   "cell_type": "markdown",
   "id": "63fa719a",
   "metadata": {},
   "source": [
    "## 7.3 高阶函数"
   ]
  },
  {
   "cell_type": "code",
   "execution_count": null,
   "id": "13bf38e7",
   "metadata": {},
   "outputs": [],
   "source": []
  },
  {
   "cell_type": "markdown",
   "id": "6f6e5652",
   "metadata": {},
   "source": [
    "## 7.8 支持函数式编程的两个包"
   ]
  },
  {
   "cell_type": "markdown",
   "id": "3f73ef76",
   "metadata": {},
   "source": [
    "### 7.8.1 operator 模块"
   ]
  },
  {
   "cell_type": "markdown",
   "id": "ebbab70e",
   "metadata": {},
   "source": [
    "#### 替换lambda 表达式实现阶乘\n",
    " - reduce 函数将一个数据集合（链表，元组等）中的所有数据进行下列操作：用传给 reduce 中的函数 function（有两个参数）先对集合中的第 1、2 个元素进行操作，得到的结果再与第三个数据用 function 函数运算，最后得到一个结果。"
   ]
  },
  {
   "cell_type": "code",
   "execution_count": null,
   "id": "f197597a",
   "metadata": {},
   "outputs": [
    {
     "name": "stdout",
     "output_type": "stream",
     "text": [
      "24\n",
      "24\n"
     ]
    }
   ],
   "source": [
    "from functools import reduce\n",
    "from operator import mul\n",
    "\n",
    "calculate_range = range(1,5)\n",
    "a = reduce(lambda x,y:x*y,calculate_range)\n",
    "b = reduce(mul, calculate_range)\n",
    "print(a)  # Output: 24\n",
    "print(b)  # Output: 24\n",
    "# Both a and b should be equal, demonstrating that the two methods of reduction yield the same result."
   ]
  },
  {
   "cell_type": "code",
   "execution_count": 6,
   "id": "ec01115f",
   "metadata": {},
   "outputs": [
    {
     "name": "stdout",
     "output_type": "stream",
     "text": [
      "1172\n"
     ]
    }
   ],
   "source": [
    "c = reduce(lambda x,y:x*x+y*y,[0,1,2,3,4])\n",
    "print(c)  # Output: 10"
   ]
  },
  {
   "cell_type": "markdown",
   "id": "6bff508e",
   "metadata": {},
   "source": [
    "#### itemgetter 实现从序列中读出项"
   ]
  },
  {
   "cell_type": "code",
   "execution_count": null,
   "id": "81b37c45",
   "metadata": {},
   "outputs": [
    {
     "data": {
      "text/plain": [
       "3"
      ]
     },
     "execution_count": 10,
     "metadata": {},
     "output_type": "execute_result"
    }
   ],
   "source": [
    "from operator import itemgetter\n",
    "\n",
    "temp_list = ['alice', 3, 'bob', 1, 'charlie', 7]\n",
    "get_item_1 = itemgetter(1)\n",
    "get_item_1(temp_list)"
   ]
  },
  {
   "cell_type": "code",
   "execution_count": 12,
   "id": "34d7a3f3",
   "metadata": {},
   "outputs": [
    {
     "name": "stdout",
     "output_type": "stream",
     "text": [
      "[['bob', 1], ['alice', 3], ['charlie', 7]]\n"
     ]
    }
   ],
   "source": [
    "temp_list = [['alice', 3], ['bob', 1], ['charlie', 7]]\n",
    "a = sorted(temp_list,key = get_item_1)\n",
    "print(a)"
   ]
  },
  {
   "cell_type": "markdown",
   "id": "1f124bb4",
   "metadata": {},
   "source": [
    "#### attrgetter 实现提取对象属性"
   ]
  },
  {
   "cell_type": "code",
   "execution_count": 14,
   "id": "fe72b74e",
   "metadata": {},
   "outputs": [
    {
     "name": "stdout",
     "output_type": "stream",
     "text": [
      "[Person(name='alice', age=3), Person(name='bob', age=1), Person(name='charlie', age=7)]\n"
     ]
    }
   ],
   "source": [
    "from collections import namedtuple\n",
    "Person = namedtuple('Person', ['name', 'age'])\n",
    "people = [Person(x[0], x[1]) for x in temp_list]\n",
    "print(people)"
   ]
  },
  {
   "cell_type": "code",
   "execution_count": 15,
   "id": "084f60df",
   "metadata": {},
   "outputs": [
    {
     "name": "stdout",
     "output_type": "stream",
     "text": [
      "[Person(name='bob', age=1), Person(name='alice', age=3), Person(name='charlie', age=7)]\n"
     ]
    }
   ],
   "source": [
    "from operator import attrgetter\n",
    "\n",
    "\n",
    "b = sorted(people,key = attrgetter('age'))\n",
    "print(b)"
   ]
  },
  {
   "cell_type": "markdown",
   "id": "3b0723a1",
   "metadata": {},
   "source": [
    "### 7.8.2使用functools.partial冻结参数"
   ]
  },
  {
   "cell_type": "code",
   "execution_count": null,
   "id": "b01dd824",
   "metadata": {},
   "outputs": [],
   "source": []
  }
 ],
 "metadata": {
  "kernelspec": {
   "display_name": "studynote (3.12.9)",
   "language": "python",
   "name": "python3"
  },
  "language_info": {
   "codemirror_mode": {
    "name": "ipython",
    "version": 3
   },
   "file_extension": ".py",
   "mimetype": "text/x-python",
   "name": "python",
   "nbconvert_exporter": "python",
   "pygments_lexer": "ipython3",
   "version": "3.12.9"
  }
 },
 "nbformat": 4,
 "nbformat_minor": 5
}
