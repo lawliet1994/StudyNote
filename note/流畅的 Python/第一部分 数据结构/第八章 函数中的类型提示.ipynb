{
 "cells": [
  {
   "cell_type": "markdown",
   "id": "68bb778e",
   "metadata": {},
   "source": [
    "## 8.3 渐进式类型实践"
   ]
  },
  {
   "cell_type": "markdown",
   "id": "8094c405",
   "metadata": {},
   "source": [
    "### 8.3.4 使用 None 作为默认值"
   ]
  },
  {
   "cell_type": "code",
   "execution_count": null,
   "id": "f1d5d79b",
   "metadata": {},
   "outputs": [],
   "source": [
    "from typing import Optional\n",
    "def test_func_optional(a: int, b: int, c: Optional[dict[str,str]] = None) -> int:\n",
    "    if c is None:\n",
    "        c = {}\n",
    "    return a + b"
   ]
  },
  {
   "cell_type": "markdown",
   "id": "c045b039",
   "metadata": {},
   "source": [
    "## 8.4 类型由受支持的操作定义"
   ]
  }
 ],
 "metadata": {
  "kernelspec": {
   "display_name": "studynote (3.12.9)",
   "language": "python",
   "name": "python3"
  },
  "language_info": {
   "codemirror_mode": {
    "name": "ipython",
    "version": 3
   },
   "file_extension": ".py",
   "mimetype": "text/x-python",
   "name": "python",
   "nbconvert_exporter": "python",
   "pygments_lexer": "ipython3",
   "version": "3.12.9"
  }
 },
 "nbformat": 4,
 "nbformat_minor": 5
}
