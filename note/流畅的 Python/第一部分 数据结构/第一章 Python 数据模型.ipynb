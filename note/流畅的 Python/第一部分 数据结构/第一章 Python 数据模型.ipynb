{
 "cells": [
  {
   "cell_type": "markdown",
   "id": "7c45177d",
   "metadata": {},
   "source": [
    "## 1.2 一摞 Python 风格的纸牌"
   ]
  },
  {
   "cell_type": "markdown",
   "id": "b7243c99",
   "metadata": {},
   "source": [
    "### 定义牌组"
   ]
  },
  {
   "cell_type": "code",
   "execution_count": 39,
   "id": "08f47e17",
   "metadata": {},
   "outputs": [],
   "source": [
    "import collections\n",
    "# 使用namedtuple来定义一个只有属性而没有自定义方法的类\n",
    "Card = collections.namedtuple('Card', ['rank', 'suit'])\n"
   ]
  },
  {
   "cell_type": "code",
   "execution_count": 40,
   "id": "ae344a76",
   "metadata": {},
   "outputs": [
    {
     "name": "stdout",
     "output_type": "stream",
     "text": [
      "Card(rank='K', suit='红桃')\n"
     ]
    }
   ],
   "source": [
    "a=Card('K', '红桃')\n",
    "print(a)"
   ]
  },
  {
   "cell_type": "code",
   "execution_count": 41,
   "id": "be9361fd",
   "metadata": {},
   "outputs": [],
   "source": [
    "class FrenchDeck:\n",
    "    # 创建一个 FrenchDeck 类\n",
    "    ranks = [str(n) for n in range(2,11)]+list('JQKA')\n",
    "    suits = '方片 红桃 黑桃 梅花'.split()\n",
    "    def __init__(self):\n",
    "        # 初始化 FrenchDeck 类\n",
    "        self._cards=[Card(rank,suit) for rank in self.ranks for suit in self.suits]\n",
    "    def __len__(self):\n",
    "        # 定义 FrenchDeck 类的 __len__ 方法\n",
    "        return len(self._cards)\n",
    "    def __getitem__(self, position):\n",
    "        # 定义 FrenchDeck 类的 __getitem__ 方法\n",
    "        return self._cards[position]"
   ]
  },
  {
   "cell_type": "code",
   "execution_count": 42,
   "id": "1949209e",
   "metadata": {},
   "outputs": [
    {
     "name": "stdout",
     "output_type": "stream",
     "text": [
      "52\n"
     ]
    }
   ],
   "source": [
    "# 初始化牌组\n",
    "p = FrenchDeck()\n",
    "print(len(p))"
   ]
  },
  {
   "cell_type": "markdown",
   "id": "649613e0",
   "metadata": {},
   "source": [
    "### 切片"
   ]
  },
  {
   "cell_type": "code",
   "execution_count": 43,
   "id": "55c2b3ab",
   "metadata": {},
   "outputs": [
    {
     "name": "stdout",
     "output_type": "stream",
     "text": [
      "[Card(rank='2', suit='梅花'), Card(rank='3', suit='方片'), Card(rank='3', suit='红桃'), Card(rank='3', suit='黑桃')]\n"
     ]
    }
   ],
   "source": [
    "#  切片\n",
    "l=p[3:7]\n",
    "print(l)"
   ]
  },
  {
   "cell_type": "markdown",
   "id": "aa2a84c6",
   "metadata": {},
   "source": [
    "### 抽牌"
   ]
  },
  {
   "cell_type": "code",
   "execution_count": 44,
   "id": "806ea99a",
   "metadata": {},
   "outputs": [
    {
     "name": "stdout",
     "output_type": "stream",
     "text": [
      "Card(rank='A', suit='方片')\n"
     ]
    }
   ],
   "source": [
    "from random import choice\n",
    "# 随机选择一张牌\n",
    "print(choice(p))"
   ]
  },
  {
   "cell_type": "code",
   "execution_count": 45,
   "id": "150aa995",
   "metadata": {},
   "outputs": [
    {
     "name": "stdout",
     "output_type": "stream",
     "text": [
      "Card(rank='A', suit='梅花')\n",
      "Card(rank='A', suit='黑桃')\n",
      "Card(rank='A', suit='红桃')\n",
      "Card(rank='A', suit='方片')\n",
      "Card(rank='K', suit='梅花')\n",
      "Card(rank='K', suit='黑桃')\n",
      "Card(rank='K', suit='红桃')\n",
      "Card(rank='K', suit='方片')\n",
      "Card(rank='Q', suit='梅花')\n",
      "Card(rank='Q', suit='黑桃')\n",
      "Card(rank='Q', suit='红桃')\n",
      "Card(rank='Q', suit='方片')\n",
      "Card(rank='J', suit='梅花')\n",
      "Card(rank='J', suit='黑桃')\n",
      "Card(rank='J', suit='红桃')\n",
      "Card(rank='J', suit='方片')\n",
      "Card(rank='10', suit='梅花')\n",
      "Card(rank='10', suit='黑桃')\n",
      "Card(rank='10', suit='红桃')\n",
      "Card(rank='10', suit='方片')\n",
      "Card(rank='9', suit='梅花')\n",
      "Card(rank='9', suit='黑桃')\n",
      "Card(rank='9', suit='红桃')\n",
      "Card(rank='9', suit='方片')\n",
      "Card(rank='8', suit='梅花')\n",
      "Card(rank='8', suit='黑桃')\n",
      "Card(rank='8', suit='红桃')\n",
      "Card(rank='8', suit='方片')\n",
      "Card(rank='7', suit='梅花')\n",
      "Card(rank='7', suit='黑桃')\n",
      "Card(rank='7', suit='红桃')\n",
      "Card(rank='7', suit='方片')\n",
      "Card(rank='6', suit='梅花')\n",
      "Card(rank='6', suit='黑桃')\n",
      "Card(rank='6', suit='红桃')\n",
      "Card(rank='6', suit='方片')\n",
      "Card(rank='5', suit='梅花')\n",
      "Card(rank='5', suit='黑桃')\n",
      "Card(rank='5', suit='红桃')\n",
      "Card(rank='5', suit='方片')\n",
      "Card(rank='4', suit='梅花')\n",
      "Card(rank='4', suit='黑桃')\n",
      "Card(rank='4', suit='红桃')\n",
      "Card(rank='4', suit='方片')\n",
      "Card(rank='3', suit='梅花')\n",
      "Card(rank='3', suit='黑桃')\n",
      "Card(rank='3', suit='红桃')\n",
      "Card(rank='3', suit='方片')\n",
      "Card(rank='2', suit='梅花')\n",
      "Card(rank='2', suit='黑桃')\n",
      "Card(rank='2', suit='红桃')\n",
      "Card(rank='2', suit='方片')\n"
     ]
    }
   ],
   "source": [
    "for card in reversed(p):\n",
    "    print(card)\n",
    "# 迭代器"
   ]
  },
  {
   "cell_type": "markdown",
   "id": "48d2fc68",
   "metadata": {},
   "source": [
    "### 验证(in)"
   ]
  },
  {
   "cell_type": "code",
   "execution_count": 48,
   "id": "2342f17b",
   "metadata": {},
   "outputs": [
    {
     "data": {
      "text/plain": [
       "True"
      ]
     },
     "execution_count": 48,
     "metadata": {},
     "output_type": "execute_result"
    }
   ],
   "source": [
    "Card('7', '红桃') in p\n"
   ]
  },
  {
   "cell_type": "code",
   "execution_count": 49,
   "id": "86d2cfc6",
   "metadata": {},
   "outputs": [
    {
     "data": {
      "text/plain": [
       "False"
      ]
     },
     "execution_count": 49,
     "metadata": {},
     "output_type": "execute_result"
    }
   ],
   "source": [
    "Card('7', 'any') in p"
   ]
  },
  {
   "cell_type": "markdown",
   "id": "cff5dd2a",
   "metadata": {},
   "source": [
    "### 排序"
   ]
  },
  {
   "cell_type": "code",
   "execution_count": 51,
   "id": "2aa265bf",
   "metadata": {},
   "outputs": [
    {
     "name": "stdout",
     "output_type": "stream",
     "text": [
      "Card(rank='2', suit='方片')\n",
      "Card(rank='2', suit='梅花')\n",
      "Card(rank='2', suit='黑桃')\n",
      "Card(rank='2', suit='红桃')\n",
      "Card(rank='3', suit='方片')\n",
      "Card(rank='3', suit='梅花')\n",
      "Card(rank='3', suit='黑桃')\n",
      "Card(rank='3', suit='红桃')\n",
      "Card(rank='4', suit='方片')\n",
      "Card(rank='4', suit='梅花')\n",
      "Card(rank='4', suit='黑桃')\n",
      "Card(rank='4', suit='红桃')\n",
      "Card(rank='5', suit='方片')\n",
      "Card(rank='5', suit='梅花')\n",
      "Card(rank='5', suit='黑桃')\n",
      "Card(rank='5', suit='红桃')\n",
      "Card(rank='6', suit='方片')\n",
      "Card(rank='6', suit='梅花')\n",
      "Card(rank='6', suit='黑桃')\n",
      "Card(rank='6', suit='红桃')\n",
      "Card(rank='7', suit='方片')\n",
      "Card(rank='7', suit='梅花')\n",
      "Card(rank='7', suit='黑桃')\n",
      "Card(rank='7', suit='红桃')\n",
      "Card(rank='8', suit='方片')\n",
      "Card(rank='8', suit='梅花')\n",
      "Card(rank='8', suit='黑桃')\n",
      "Card(rank='8', suit='红桃')\n",
      "Card(rank='9', suit='方片')\n",
      "Card(rank='9', suit='梅花')\n",
      "Card(rank='9', suit='黑桃')\n",
      "Card(rank='9', suit='红桃')\n",
      "Card(rank='10', suit='方片')\n",
      "Card(rank='10', suit='梅花')\n",
      "Card(rank='10', suit='黑桃')\n",
      "Card(rank='10', suit='红桃')\n",
      "Card(rank='J', suit='方片')\n",
      "Card(rank='J', suit='梅花')\n",
      "Card(rank='J', suit='黑桃')\n",
      "Card(rank='J', suit='红桃')\n",
      "Card(rank='Q', suit='方片')\n",
      "Card(rank='Q', suit='梅花')\n",
      "Card(rank='Q', suit='黑桃')\n",
      "Card(rank='Q', suit='红桃')\n",
      "Card(rank='K', suit='方片')\n",
      "Card(rank='K', suit='梅花')\n",
      "Card(rank='K', suit='黑桃')\n",
      "Card(rank='K', suit='红桃')\n",
      "Card(rank='A', suit='方片')\n",
      "Card(rank='A', suit='梅花')\n",
      "Card(rank='A', suit='黑桃')\n",
      "Card(rank='A', suit='红桃')\n"
     ]
    }
   ],
   "source": [
    "suit_values = dict(红桃=3, 黑桃=2, 梅花=1, 方片=0)\n",
    "def spades_high(card):\n",
    "    # 定义一个函数来比较牌的大小\n",
    "    rank_value = FrenchDeck.ranks.index(card.rank)\n",
    "    return rank_value * len(suit_values) + suit_values[card.suit]\n",
    "for card in sorted(p, key=spades_high):\n",
    "    print(card)"
   ]
  },
  {
   "cell_type": "markdown",
   "id": "03b89069",
   "metadata": {},
   "source": [
    "## 1.3 特殊方法是如何实现的\n",
    "\n",
    "### 1.3.1 模拟数据类型 "
   ]
  },
  {
   "cell_type": "markdown",
   "id": "7571f53f",
   "metadata": {},
   "source": [
    "#### 欧几里得向量"
   ]
  },
  {
   "cell_type": "code",
   "execution_count": 54,
   "id": "9f2a053a",
   "metadata": {},
   "outputs": [],
   "source": [
    "# 定义 Vector\n",
    "import math\n",
    "class Vector:\n",
    "    def __init__(self,x,y):\n",
    "        self.x = x\n",
    "        self.y = y\n",
    "\n",
    "    def __repr__(self):\n",
    "        # 定义打印方法\n",
    "        return 'Vector(%r,%r)' % (self.x, self.y)\n",
    "    def __abs__(self):\n",
    "        # 定义绝对值方法\n",
    "        return math.hypot(self.x, self.y)\n",
    "    def __bool__(self):\n",
    "        # 定义布尔值方法\n",
    "        return bool(abs(self))\n",
    "    def __add__(self,other):\n",
    "        return Vector(self.x + other.x, self.y + other.y)\n",
    "    def __sub__(self,other):\n",
    "        return Vector(self.x - other.x, self.y - other.y)\n",
    "    def __mul__(self,other):\n",
    "        return Vector(self.x * other.x, self.y * other.y)\n",
    "    def __truediv__(self,other):\n",
    "        return Vector(self.x / other.x, self.y / other.y)"
   ]
  },
  {
   "cell_type": "code",
   "execution_count": null,
   "id": "ef01c30e",
   "metadata": {},
   "outputs": [
    {
     "name": "stdout",
     "output_type": "stream",
     "text": [
      "Vector(5,9)\n"
     ]
    }
   ],
   "source": [
    "v1 = Vector(2, 4)\n",
    "v2 = Vector(3, 5)\n",
    "print(v1+v2)"
   ]
  }
 ],
 "metadata": {
  "kernelspec": {
   "display_name": "studynote (3.12.9)",
   "language": "python",
   "name": "python3"
  },
  "language_info": {
   "codemirror_mode": {
    "name": "ipython",
    "version": 3
   },
   "file_extension": ".py",
   "mimetype": "text/x-python",
   "name": "python",
   "nbconvert_exporter": "python",
   "pygments_lexer": "ipython3",
   "version": "3.12.9"
  }
 },
 "nbformat": 4,
 "nbformat_minor": 5
}
