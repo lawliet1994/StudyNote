{
 "cells": [
  {
   "cell_type": "markdown",
   "id": "7f30d6d6",
   "metadata": {},
   "source": [
    "## 2.3 列表推导式"
   ]
  },
  {
   "cell_type": "code",
   "execution_count": 1,
   "id": "db390ac9",
   "metadata": {},
   "outputs": [
    {
     "name": "stdout",
     "output_type": "stream",
     "text": [
      "[0, 3, 5, 6, 9, 10, 12, 15, 18, 20, 21, 24, 25, 27, 30, 33, 35, 36, 39, 40, 42, 45, 48, 50, 51, 54, 55, 57, 60, 63, 65, 66, 69, 70, 72, 75, 78, 80, 81, 84, 85, 87, 90, 93, 95, 96, 99, 100, 102, 105, 108, 110, 111, 114, 115, 117, 120, 123, 125, 126, 129, 130, 132, 135, 138, 140, 141, 144, 145, 147, 150, 153, 155, 156, 159, 160, 162, 165, 168, 170, 171, 174, 175, 177, 180, 183, 185, 186, 189, 190, 192, 195, 198, 200, 201, 204, 205, 207, 210, 213, 215, 216, 219, 220, 222, 225, 228, 230, 231, 234, 235, 237, 240, 243, 245, 246, 249, 250, 252, 255, 258, 260, 261, 264, 265, 267, 270, 273, 275, 276, 279, 280, 282, 285, 288, 290, 291, 294, 295, 297, 300, 303, 305, 306, 309, 310, 312, 315, 318, 320, 321, 324, 325, 327, 330, 333, 335, 336, 339, 340, 342, 345, 348, 350, 351, 354, 355, 357, 360, 363, 365, 366, 369, 370, 372, 375, 378, 380, 381, 384, 385, 387, 390, 393, 395, 396, 399, 400, 402, 405, 408, 410, 411, 414, 415, 417, 420, 423, 425, 426, 429, 430, 432, 435, 438, 440, 441, 444, 445, 447, 450, 453, 455, 456, 459, 460, 462, 465, 468, 470, 471, 474, 475, 477, 480, 483, 485, 486, 489, 490, 492, 495, 498, 500, 501, 504, 505, 507, 510, 513, 515, 516, 519, 520, 522, 525, 528, 530, 531, 534, 535, 537, 540, 543, 545, 546, 549, 550, 552, 555, 558, 560, 561, 564, 565, 567, 570, 573, 575, 576, 579, 580, 582, 585, 588, 590, 591, 594, 595, 597, 600, 603, 605, 606, 609, 610, 612, 615, 618, 620, 621, 624, 625, 627, 630, 633, 635, 636, 639, 640, 642, 645, 648, 650, 651, 654, 655, 657, 660, 663, 665, 666, 669, 670, 672, 675, 678, 680, 681, 684, 685, 687, 690, 693, 695, 696, 699, 700, 702, 705, 708, 710, 711, 714, 715, 717, 720, 723, 725, 726, 729, 730, 732, 735, 738, 740, 741, 744, 745, 747, 750, 753, 755, 756, 759, 760, 762, 765, 768, 770, 771, 774, 775, 777, 780, 783, 785, 786, 789, 790, 792, 795, 798, 800, 801, 804, 805, 807, 810, 813, 815, 816, 819, 820, 822, 825, 828, 830, 831, 834, 835, 837, 840, 843, 845, 846, 849, 850, 852, 855, 858, 860, 861, 864, 865, 867, 870, 873, 875, 876, 879, 880, 882, 885, 888, 890, 891, 894, 895, 897, 900, 903, 905, 906, 909, 910, 912, 915, 918, 920, 921, 924, 925, 927, 930, 933, 935, 936, 939, 940, 942, 945, 948, 950, 951, 954, 955, 957, 960, 963, 965, 966, 969, 970, 972, 975, 978, 980, 981, 984, 985, 987, 990, 993, 995, 996, 999]\n",
      "233168\n"
     ]
    }
   ],
   "source": [
    "a = [i for i in range(1000) if i % 3 == 0 or i % 5 == 0]\n",
    "print(a)\n",
    "print(sum(a))"
   ]
  },
  {
   "cell_type": "markdown",
   "id": "09a99169",
   "metadata": {},
   "source": [
    "## 2.5 序列和可迭代对象拆包"
   ]
  },
  {
   "cell_type": "code",
   "execution_count": null,
   "id": "32978f17",
   "metadata": {},
   "outputs": [
    {
     "name": "stdout",
     "output_type": "stream",
     "text": [
      "problem001.py\n"
     ]
    }
   ],
   "source": [
    "import os\n",
    "# \"_\"表示虚拟变量，将不需要的值赋给它\n",
    "_,filename = os.path.split('/home/runner/work/ProjectEuler/ProjectEuler/problem001.py')\n",
    "print(filename)"
   ]
  },
  {
   "cell_type": "code",
   "execution_count": 5,
   "id": "fbc8929b",
   "metadata": {},
   "outputs": [
    {
     "name": "stdout",
     "output_type": "stream",
     "text": [
      "list1: [0, 1, 2, 3, 4, 5, 6, 7, 8, 9, 10]\n",
      "a: 0, b: 1, c: 10\n"
     ]
    }
   ],
   "source": [
    "list1 =[i for i in range(11)]\n",
    "print(f\"list1: {list1!r}\")\n",
    "a,b,*_,c = list1\n",
    "print(f\"a: {a}, b: {b}, c: {c}\")"
   ]
  },
  {
   "cell_type": "markdown",
   "id": "d16ada70",
   "metadata": {},
   "source": [
    "## 2.6 序列模式匹配"
   ]
  },
  {
   "cell_type": "code",
   "execution_count": 9,
   "id": "7fd6dbeb",
   "metadata": {},
   "outputs": [
    {
     "name": "stdout",
     "output_type": "stream",
     "text": [
      "['animal', 'tom', 18, (1, 1)]\n",
      "Animal: tom, Age: 18, Coordinates: (1, 1)\n",
      "['animal', 'jerry', 19, (2, 2)]\n",
      "Unknown type\n",
      "['human', 'li', 'si', 20]\n",
      "Human: li si, Age: 20\n",
      "['plant', 'rose', 2]\n",
      "Unknown type\n"
     ]
    }
   ],
   "source": [
    "temp_list = [\n",
    "    ['animal','tom',18,(1,1)],\n",
    "    ['animal','jerry',19,(2,2)],\n",
    "    ['human','li','si',20],\n",
    "    ['plant','rose',2],\n",
    "]\n",
    "for item in temp_list:\n",
    "    print(f'{item!r}')\n",
    "    match item:\n",
    "        case ['animal', name, age, (x, y)] if x==1:\n",
    "            print(f'Animal: {name}, Age: {age}, Coordinates: ({x}, {y})')\n",
    "        case ['human', name, surname, age]:\n",
    "            print(f'Human: {name} {surname}, Age: {age}')\n",
    "        case _:\n",
    "            print('Unknown type')\n"
   ]
  },
  {
   "cell_type": "code",
   "execution_count": null,
   "id": "d830c642",
   "metadata": {},
   "outputs": [
    {
     "name": "stdout",
     "output_type": "stream",
     "text": [
      "['animal', 'tom', 18, (1, 1)]\n",
      "Type: animal, Coordinates: (1, 1)\n",
      "['animal', 'jerry', 19, (2, 2)]\n",
      "Type: animal, Coordinates: (2, 2)\n",
      "['human', 'li', 'si', 20]\n",
      "['plant', 'rose', 2]\n"
     ]
    }
   ],
   "source": [
    "for item in temp_list:\n",
    "    print(f'{item!r}')\n",
    "    match item:\n",
    "        # Using a tuple pattern with a wildcard  to extract the type and coordinates\n",
    "        case[str(type),*_,(int(x),int(y))]:\n",
    "            print(f\"Type: {type}, Coordinates: ({x}, {y})\")"
   ]
  },
  {
   "cell_type": "markdown",
   "id": "43b9efcc",
   "metadata": {},
   "source": [
    "## 2.7 切片"
   ]
  },
  {
   "cell_type": "markdown",
   "id": "58166cec",
   "metadata": {},
   "source": [
    "### 2.7.2 切片对象"
   ]
  },
  {
   "cell_type": "markdown",
   "id": "211dc755",
   "metadata": {},
   "source": [
    "#### 步距"
   ]
  },
  {
   "cell_type": "code",
   "execution_count": null,
   "id": "190725ac",
   "metadata": {},
   "outputs": [
    {
     "name": "stdout",
     "output_type": "stream",
     "text": [
      "temp_list: [0, 2, 4, 6, 8, 10, 12, 14, 16, 18]\n",
      "倒序: [18, 16, 14, 12, 10, 8, 6, 4, 2, 0]\n",
      "切片: [6, 10]\n"
     ]
    }
   ],
   "source": [
    "temp_list = [i for i in range(20) if i % 2 == 0]\n",
    "print(f'temp_list: {temp_list!r}')\n",
    "\n",
    "a = temp_list[::-1]\n",
    "print(f'倒序: {a!r}')\n",
    "a = temp_list[3:6:2]\n",
    "print(f'切片+步距: {a!r}')"
   ]
  },
  {
   "cell_type": "markdown",
   "id": "031e26b1",
   "metadata": {},
   "source": [
    "#### 切片命名"
   ]
  },
  {
   "cell_type": "code",
   "execution_count": 7,
   "id": "5cca091b",
   "metadata": {},
   "outputs": [
    {
     "name": "stdout",
     "output_type": "stream",
     "text": [
      "NAME: ['tom', 'jerry', 'rose']\n",
      "NUMBER: [2, 3, 5, 5]\n"
     ]
    }
   ],
   "source": [
    "temp_list = ['tom', 'jerry', 'rose',2,3,5,5,6]\n",
    "NAME = slice(0,3)\n",
    "NUMBER = slice(3,7)\n",
    "print(f'NAME: {temp_list[NAME]!r}')\n",
    "print(f'NUMBER: {temp_list[NUMBER]!r}')"
   ]
  },
  {
   "cell_type": "markdown",
   "id": "952a2488",
   "metadata": {},
   "source": [
    "### 2.7.4 为切片赋值"
   ]
  },
  {
   "cell_type": "code",
   "execution_count": 14,
   "id": "619bcb7f",
   "metadata": {},
   "outputs": [
    {
     "name": "stdout",
     "output_type": "stream",
     "text": [
      "temp_list2: [0, 1, 2, 3, 4, 5, 6, 7, 8, 9, 10, 11, 12, 13, 14, 15, 16, 17, 18, 19]\n",
      "更新后的temp_list2: [0, 1, 2, 3, 4, 100, 200, 7, 8, 9, 10, 11, 12, 13, 14, 15, 16, 17, 18, 19]\n",
      "更新后的temp_list2: [0, 1, 0, 17, 18, 19]\n"
     ]
    }
   ],
   "source": [
    "temp_list2 = [i for i in range(20)]\n",
    "print(f'temp_list2: {temp_list2!r}')\n",
    "temp_list2[5:7] = [100,200]\n",
    "print(f'更新后的temp_list2: {temp_list2!r}')\n",
    "temp_list2[2:17] = [0]\n",
    "print(f'更新后的temp_list2: {temp_list2!r}')"
   ]
  }
 ],
 "metadata": {
  "kernelspec": {
   "display_name": "studynote (3.12.9)",
   "language": "python",
   "name": "python3"
  },
  "language_info": {
   "codemirror_mode": {
    "name": "ipython",
    "version": 3
   },
   "file_extension": ".py",
   "mimetype": "text/x-python",
   "name": "python",
   "nbconvert_exporter": "python",
   "pygments_lexer": "ipython3",
   "version": "3.12.9"
  }
 },
 "nbformat": 4,
 "nbformat_minor": 5
}
