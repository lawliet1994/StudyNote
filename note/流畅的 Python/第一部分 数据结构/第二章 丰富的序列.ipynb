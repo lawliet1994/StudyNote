{
 "cells": [
  {
   "cell_type": "markdown",
   "id": "7f30d6d6",
   "metadata": {},
   "source": [
    "## 2.3 列表推导式"
   ]
  },
  {
   "cell_type": "code",
   "execution_count": 1,
   "id": "db390ac9",
   "metadata": {},
   "outputs": [
    {
     "name": "stdout",
     "output_type": "stream",
     "text": [
      "[0, 3, 5, 6, 9, 10, 12, 15, 18, 20, 21, 24, 25, 27, 30, 33, 35, 36, 39, 40, 42, 45, 48, 50, 51, 54, 55, 57, 60, 63, 65, 66, 69, 70, 72, 75, 78, 80, 81, 84, 85, 87, 90, 93, 95, 96, 99, 100, 102, 105, 108, 110, 111, 114, 115, 117, 120, 123, 125, 126, 129, 130, 132, 135, 138, 140, 141, 144, 145, 147, 150, 153, 155, 156, 159, 160, 162, 165, 168, 170, 171, 174, 175, 177, 180, 183, 185, 186, 189, 190, 192, 195, 198, 200, 201, 204, 205, 207, 210, 213, 215, 216, 219, 220, 222, 225, 228, 230, 231, 234, 235, 237, 240, 243, 245, 246, 249, 250, 252, 255, 258, 260, 261, 264, 265, 267, 270, 273, 275, 276, 279, 280, 282, 285, 288, 290, 291, 294, 295, 297, 300, 303, 305, 306, 309, 310, 312, 315, 318, 320, 321, 324, 325, 327, 330, 333, 335, 336, 339, 340, 342, 345, 348, 350, 351, 354, 355, 357, 360, 363, 365, 366, 369, 370, 372, 375, 378, 380, 381, 384, 385, 387, 390, 393, 395, 396, 399, 400, 402, 405, 408, 410, 411, 414, 415, 417, 420, 423, 425, 426, 429, 430, 432, 435, 438, 440, 441, 444, 445, 447, 450, 453, 455, 456, 459, 460, 462, 465, 468, 470, 471, 474, 475, 477, 480, 483, 485, 486, 489, 490, 492, 495, 498, 500, 501, 504, 505, 507, 510, 513, 515, 516, 519, 520, 522, 525, 528, 530, 531, 534, 535, 537, 540, 543, 545, 546, 549, 550, 552, 555, 558, 560, 561, 564, 565, 567, 570, 573, 575, 576, 579, 580, 582, 585, 588, 590, 591, 594, 595, 597, 600, 603, 605, 606, 609, 610, 612, 615, 618, 620, 621, 624, 625, 627, 630, 633, 635, 636, 639, 640, 642, 645, 648, 650, 651, 654, 655, 657, 660, 663, 665, 666, 669, 670, 672, 675, 678, 680, 681, 684, 685, 687, 690, 693, 695, 696, 699, 700, 702, 705, 708, 710, 711, 714, 715, 717, 720, 723, 725, 726, 729, 730, 732, 735, 738, 740, 741, 744, 745, 747, 750, 753, 755, 756, 759, 760, 762, 765, 768, 770, 771, 774, 775, 777, 780, 783, 785, 786, 789, 790, 792, 795, 798, 800, 801, 804, 805, 807, 810, 813, 815, 816, 819, 820, 822, 825, 828, 830, 831, 834, 835, 837, 840, 843, 845, 846, 849, 850, 852, 855, 858, 860, 861, 864, 865, 867, 870, 873, 875, 876, 879, 880, 882, 885, 888, 890, 891, 894, 895, 897, 900, 903, 905, 906, 909, 910, 912, 915, 918, 920, 921, 924, 925, 927, 930, 933, 935, 936, 939, 940, 942, 945, 948, 950, 951, 954, 955, 957, 960, 963, 965, 966, 969, 970, 972, 975, 978, 980, 981, 984, 985, 987, 990, 993, 995, 996, 999]\n",
      "233168\n"
     ]
    }
   ],
   "source": [
    "a = [i for i in range(1000) if i % 3 == 0 or i % 5 == 0]\n",
    "print(a)\n",
    "print(sum(a))"
   ]
  },
  {
   "cell_type": "markdown",
   "id": "09a99169",
   "metadata": {},
   "source": [
    "## 2.5 序列和可迭代对象拆包"
   ]
  },
  {
   "cell_type": "code",
   "execution_count": null,
   "id": "32978f17",
   "metadata": {},
   "outputs": [
    {
     "name": "stdout",
     "output_type": "stream",
     "text": [
      "problem001.py\n"
     ]
    }
   ],
   "source": [
    "import os\n",
    "# \"_\"表示虚拟变量，将不需要的值赋给它\n",
    "_,filename = os.path.split('/home/runner/work/ProjectEuler/ProjectEuler/problem001.py')\n",
    "print(filename)"
   ]
  },
  {
   "cell_type": "code",
   "execution_count": 5,
   "id": "fbc8929b",
   "metadata": {},
   "outputs": [
    {
     "name": "stdout",
     "output_type": "stream",
     "text": [
      "list1: [0, 1, 2, 3, 4, 5, 6, 7, 8, 9, 10]\n",
      "a: 0, b: 1, c: 10\n"
     ]
    }
   ],
   "source": [
    "list1 =[i for i in range(11)]\n",
    "print(f\"list1: {list1!r}\")\n",
    "a,b,*_,c = list1\n",
    "print(f\"a: {a}, b: {b}, c: {c}\")"
   ]
  },
  {
   "cell_type": "markdown",
   "id": "d16ada70",
   "metadata": {},
   "source": [
    "## 2.6 序列模式匹配"
   ]
  },
  {
   "cell_type": "code",
   "execution_count": 9,
   "id": "7fd6dbeb",
   "metadata": {},
   "outputs": [
    {
     "name": "stdout",
     "output_type": "stream",
     "text": [
      "['animal', 'tom', 18, (1, 1)]\n",
      "Animal: tom, Age: 18, Coordinates: (1, 1)\n",
      "['animal', 'jerry', 19, (2, 2)]\n",
      "Unknown type\n",
      "['human', 'li', 'si', 20]\n",
      "Human: li si, Age: 20\n",
      "['plant', 'rose', 2]\n",
      "Unknown type\n"
     ]
    }
   ],
   "source": [
    "temp_list = [\n",
    "    ['animal','tom',18,(1,1)],\n",
    "    ['animal','jerry',19,(2,2)],\n",
    "    ['human','li','si',20],\n",
    "    ['plant','rose',2],\n",
    "]\n",
    "for item in temp_list:\n",
    "    print(f'{item!r}')\n",
    "    match item:\n",
    "        case ['animal', name, age, (x, y)] if x==1:\n",
    "            print(f'Animal: {name}, Age: {age}, Coordinates: ({x}, {y})')\n",
    "        case ['human', name, surname, age]:\n",
    "            print(f'Human: {name} {surname}, Age: {age}')\n",
    "        case _:\n",
    "            print('Unknown type')\n"
   ]
  },
  {
   "cell_type": "code",
   "execution_count": null,
   "id": "d830c642",
   "metadata": {},
   "outputs": [
    {
     "name": "stdout",
     "output_type": "stream",
     "text": [
      "['animal', 'tom', 18, (1, 1)]\n",
      "Type: animal, Coordinates: (1, 1)\n",
      "['animal', 'jerry', 19, (2, 2)]\n",
      "Type: animal, Coordinates: (2, 2)\n",
      "['human', 'li', 'si', 20]\n",
      "['plant', 'rose', 2]\n"
     ]
    }
   ],
   "source": [
    "for item in temp_list:\n",
    "    print(f'{item!r}')\n",
    "    match item:\n",
    "        # Using a tuple pattern with a wildcard  to extract the type and coordinates\n",
    "        case[str(type),*_,(int(x),int(y))]:\n",
    "            print(f\"Type: {type}, Coordinates: ({x}, {y})\")"
   ]
  },
  {
   "cell_type": "markdown",
   "id": "43b9efcc",
   "metadata": {},
   "source": [
    "## 2.7 切片"
   ]
  },
  {
   "cell_type": "markdown",
   "id": "58166cec",
   "metadata": {},
   "source": [
    "### 2.7.2 切片对象"
   ]
  },
  {
   "cell_type": "markdown",
   "id": "211dc755",
   "metadata": {},
   "source": [
    "#### 步距"
   ]
  },
  {
   "cell_type": "code",
   "execution_count": null,
   "id": "190725ac",
   "metadata": {},
   "outputs": [
    {
     "name": "stdout",
     "output_type": "stream",
     "text": [
      "temp_list: [0, 2, 4, 6, 8, 10, 12, 14, 16, 18]\n",
      "倒序: [18, 16, 14, 12, 10, 8, 6, 4, 2, 0]\n",
      "切片: [6, 10]\n"
     ]
    }
   ],
   "source": [
    "temp_list = [i for i in range(20) if i % 2 == 0]\n",
    "print(f'temp_list: {temp_list!r}')\n",
    "\n",
    "a = temp_list[::-1]\n",
    "print(f'倒序: {a!r}')\n",
    "a = temp_list[3:6:2]\n",
    "print(f'切片+步距: {a!r}')"
   ]
  },
  {
   "cell_type": "markdown",
   "id": "031e26b1",
   "metadata": {},
   "source": [
    "#### 切片命名"
   ]
  },
  {
   "cell_type": "code",
   "execution_count": 7,
   "id": "5cca091b",
   "metadata": {},
   "outputs": [
    {
     "name": "stdout",
     "output_type": "stream",
     "text": [
      "NAME: ['tom', 'jerry', 'rose']\n",
      "NUMBER: [2, 3, 5, 5]\n"
     ]
    }
   ],
   "source": [
    "temp_list = ['tom', 'jerry', 'rose',2,3,5,5,6]\n",
    "NAME = slice(0,3)\n",
    "NUMBER = slice(3,7)\n",
    "print(f'NAME: {temp_list[NAME]!r}')\n",
    "print(f'NUMBER: {temp_list[NUMBER]!r}')"
   ]
  },
  {
   "cell_type": "markdown",
   "id": "952a2488",
   "metadata": {},
   "source": [
    "### 2.7.4 为切片赋值"
   ]
  },
  {
   "cell_type": "code",
   "execution_count": 14,
   "id": "619bcb7f",
   "metadata": {},
   "outputs": [
    {
     "name": "stdout",
     "output_type": "stream",
     "text": [
      "temp_list2: [0, 1, 2, 3, 4, 5, 6, 7, 8, 9, 10, 11, 12, 13, 14, 15, 16, 17, 18, 19]\n",
      "更新后的temp_list2: [0, 1, 2, 3, 4, 100, 200, 7, 8, 9, 10, 11, 12, 13, 14, 15, 16, 17, 18, 19]\n",
      "更新后的temp_list2: [0, 1, 0, 17, 18, 19]\n"
     ]
    }
   ],
   "source": [
    "temp_list2 = [i for i in range(20)]\n",
    "print(f'temp_list2: {temp_list2!r}')\n",
    "temp_list2[5:7] = [100,200]\n",
    "print(f'更新后的temp_list2: {temp_list2!r}')\n",
    "temp_list2[2:17] = [0]\n",
    "print(f'更新后的temp_list2: {temp_list2!r}')"
   ]
  },
  {
   "cell_type": "markdown",
   "id": "2b00411d",
   "metadata": {},
   "source": [
    "## 2.9 list.sort 和 sorted"
   ]
  },
  {
   "cell_type": "code",
   "execution_count": null,
   "id": "3a8455f3",
   "metadata": {},
   "outputs": [
    {
     "name": "stdout",
     "output_type": "stream",
     "text": [
      "[0, 1, 3, 3, 4, 6, 35, 56, 87]\n"
     ]
    }
   ],
   "source": [
    "temp_list = [0,4,56,3,1,6,3,87,35]\n",
    "temp_list.sort(reverse=False)# 默认升序,直接修改原列表，也可以传参key，例如lambda x:x\n",
    "print(temp_list)"
   ]
  },
  {
   "cell_type": "code",
   "execution_count": null,
   "id": "c2a81434",
   "metadata": {},
   "outputs": [
    {
     "name": "stdout",
     "output_type": "stream",
     "text": [
      "降序: [87, 56, 6, 35, 4, 3, 3, 1, 0]\n"
     ]
    }
   ],
   "source": [
    "temp_list = [0,4,56,3,1,6,3,87,35]\n",
    "# key 参数指定排序规则，接收序列的每一个迭代元素作为参数，返回一个值用于比较\n",
    "a = sorted(temp_list, reverse=True,key=lambda x: str(x)[-1])  # 根据最后一位数降序，返回新列表\n",
    "print(f'根据最后一位数降序: {a!r}')  # 返回新列表，不修改原列表"
   ]
  },
  {
   "cell_type": "markdown",
   "id": "496b04d1",
   "metadata": {},
   "source": [
    "## 2.10 当列表不适用时"
   ]
  },
  {
   "cell_type": "markdown",
   "id": "55d55fae",
   "metadata": {},
   "source": [
    "### 2.10.1 数组"
   ]
  },
  {
   "cell_type": "code",
   "execution_count": 31,
   "id": "df6fae91",
   "metadata": {},
   "outputs": [
    {
     "name": "stdout",
     "output_type": "stream",
     "text": [
      "0.712491356053769\n"
     ]
    }
   ],
   "source": [
    "from array import array\n",
    "from random import random\n",
    "# 创建一个整数类型的数组\n",
    "a = array('d',[random() for _ in range(100000)])\n",
    "with open('test.bin', 'wb') as f:\n",
    "    a.tofile(f)  # 将数组写入二进制文件\n",
    "print(a[-1])"
   ]
  },
  {
   "cell_type": "code",
   "execution_count": 32,
   "id": "d9d026cf",
   "metadata": {},
   "outputs": [
    {
     "name": "stdout",
     "output_type": "stream",
     "text": [
      "0.712491356053769\n"
     ]
    }
   ],
   "source": [
    "with open('test.bin', 'rb') as f:\n",
    "    b = array('d')  # 创建一个空的数组\n",
    "    b.fromfile(f, 100000)  # 从文件中读取100000个元素\n",
    "print(b[-1])  # 打印最后一个元素"
   ]
  },
  {
   "cell_type": "code",
   "execution_count": 20,
   "id": "28ac3f41",
   "metadata": {},
   "outputs": [],
   "source": [
    "a[0] = a[-1]"
   ]
  },
  {
   "cell_type": "code",
   "execution_count": null,
   "id": "2ea03e62",
   "metadata": {},
   "outputs": [
    {
     "data": {
      "text/plain": [
       "True"
      ]
     },
     "execution_count": 21,
     "metadata": {},
     "output_type": "execute_result"
    }
   ],
   "source": [
    "a[0]==a[-1] # 数组处理很快 "
   ]
  },
  {
   "cell_type": "markdown",
   "id": "0f11611f",
   "metadata": {},
   "source": [
    "### 2.10.2 memoryview"
   ]
  },
  {
   "cell_type": "code",
   "execution_count": null,
   "id": "2825326b",
   "metadata": {},
   "outputs": [],
   "source": []
  },
  {
   "cell_type": "markdown",
   "id": "a379a562",
   "metadata": {},
   "source": [
    "### 2.10.3 NumPy"
   ]
  },
  {
   "cell_type": "code",
   "execution_count": 33,
   "id": "d8e322b4",
   "metadata": {},
   "outputs": [
    {
     "name": "stdout",
     "output_type": "stream",
     "text": [
      "[ 0  1  2  3  4  5  6  7  8  9 10 11]\n",
      "<class 'numpy.ndarray'>\n"
     ]
    }
   ],
   "source": [
    "import numpy as np\n",
    "a=np.arange(12)\n",
    "print(a)\n",
    "print(type(a))"
   ]
  },
  {
   "cell_type": "code",
   "execution_count": 26,
   "id": "1b395a73",
   "metadata": {},
   "outputs": [
    {
     "data": {
      "text/plain": [
       "(12,)"
      ]
     },
     "execution_count": 26,
     "metadata": {},
     "output_type": "execute_result"
    }
   ],
   "source": [
    "a.shape"
   ]
  },
  {
   "cell_type": "code",
   "execution_count": 30,
   "id": "97babdca",
   "metadata": {},
   "outputs": [
    {
     "name": "stdout",
     "output_type": "stream",
     "text": [
      "[[ 0  1  2  3]\n",
      " [ 4  5  6  7]\n",
      " [ 8  9 10 11]]\n",
      "########################\n",
      "[1 5 9]\n",
      "########################\n",
      "[[ 0  4  8]\n",
      " [ 1  5  9]\n",
      " [ 2  6 10]\n",
      " [ 3  7 11]]\n"
     ]
    }
   ],
   "source": [
    "a.shape = (3, 4)  # 改变数组形状\n",
    "print(a)\n",
    "print(\"########################\")\n",
    "print(a[:,1])  # 打印第二列\n",
    "print(\"########################\")\n",
    "print(a.transpose())  # 转置数组"
   ]
  },
  {
   "cell_type": "code",
   "execution_count": null,
   "id": "39950a9e",
   "metadata": {},
   "outputs": [
    {
     "name": "stdout",
     "output_type": "stream",
     "text": [
      "[0.89794533 0.1079549 ]\n"
     ]
    }
   ],
   "source": [
    "f = np.array([random() for _ in range(100000)])\n",
    "print(f[-3:-1])\n",
    "np.save('test.npy', f)  # 保存为npy文件"
   ]
  },
  {
   "cell_type": "code",
   "execution_count": 39,
   "id": "47c9c75c",
   "metadata": {},
   "outputs": [
    {
     "name": "stdout",
     "output_type": "stream",
     "text": [
      "[0.89794533 0.1079549 ]\n",
      "[0.44897266 0.05397745]\n"
     ]
    }
   ],
   "source": [
    "f2 = np.load('test.npy','r+')  # 从npy文件加载\n",
    "print(f2[-3:-1])  # 打印最后两个元素\n",
    "f2 *=0.5\n",
    "print(f2[-3:-1])  # 打印最后两个元素，修改了原数组"
   ]
  },
  {
   "cell_type": "markdown",
   "id": "b80a9bb3",
   "metadata": {},
   "source": [
    "### 2.10.4 双端队列和其他队列"
   ]
  },
  {
   "cell_type": "markdown",
   "id": "8229e1c2",
   "metadata": {},
   "source": [
    "#### deque"
   ]
  },
  {
   "cell_type": "code",
   "execution_count": 42,
   "id": "e5cd69f4",
   "metadata": {},
   "outputs": [
    {
     "name": "stdout",
     "output_type": "stream",
     "text": [
      "添加元素后: deque([1, 2, 3, 4, 5, 6])\n",
      "添加元素后: deque([0, 1, 2, 3, 4, 5, 6])\n",
      "移除元素后: deque([0, 1, 2, 3, 4, 5])\n",
      "移除元素后: deque([1, 2, 3, 4, 5])\n",
      "扩展后: deque([1, 2, 3, 4, 5, 7, 8, 9])\n",
      "扩展后: deque([-1, -2, 1, 2, 3, 4, 5, 7, 8, 9])\n",
      "旋转后: deque([8, 9, -1, -2, 1, 2, 3, 4, 5, 7])\n",
      "反转后: deque([7, 5, 4, 3, 2, 1, -2, -1, 9, 8])\n",
      "清空后: deque([])\n"
     ]
    }
   ],
   "source": [
    "from collections import deque\n",
    "# 创建一个双端队列\n",
    "d = deque([1, 2, 3, 4, 5])\n",
    "# 在队列的右侧添加元素\n",
    "d.append(6)\n",
    "print(f'添加元素后: {d!r}')\n",
    "# 在队列的左侧添加元素\n",
    "d.appendleft(0)\n",
    "print(f'添加元素后: {d!r}')\n",
    "# 从队列的右侧移除元素\n",
    "d.pop()\n",
    "print(f'移除元素后: {d!r}')\n",
    "# 从队列的左侧移除元素\n",
    "d.popleft()\n",
    "print(f'移除元素后: {d!r}')\n",
    "# extend 队列\n",
    "d.extend([7, 8, 9])\n",
    "print(f'扩展后: {d!r}')\n",
    "# extendleft 队列\n",
    "d.extendleft([-2, -1])  # 注意，extendleft会反向添加\n",
    "print(f'扩展后: {d!r}')\n",
    "# rotate 队列\n",
    "d.rotate(2)  # 向右旋转2个位置\n",
    "print(f'旋转后: {d!r}')\n",
    "# 反转队列\n",
    "d.reverse()\n",
    "print(f'反转后: {d!r}')\n",
    "# 清空队列\n",
    "d.clear()\n",
    "print(f'清空后: {d!r}')"
   ]
  }
 ],
 "metadata": {
  "kernelspec": {
   "display_name": "studynote (3.12.9)",
   "language": "python",
   "name": "python3"
  },
  "language_info": {
   "codemirror_mode": {
    "name": "ipython",
    "version": 3
   },
   "file_extension": ".py",
   "mimetype": "text/x-python",
   "name": "python",
   "nbconvert_exporter": "python",
   "pygments_lexer": "ipython3",
   "version": "3.12.9"
  }
 },
 "nbformat": 4,
 "nbformat_minor": 5
}
