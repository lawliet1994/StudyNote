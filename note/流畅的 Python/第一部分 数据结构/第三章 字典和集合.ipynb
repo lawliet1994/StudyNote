{
 "cells": [
  {
   "cell_type": "markdown",
   "id": "d111265b",
   "metadata": {},
   "source": [
    "## 3.2 字典的现代句法"
   ]
  }
 ],
 "metadata": {
  "kernelspec": {
   "display_name": "studynote (3.12.9)",
   "language": "python",
   "name": "python3"
  },
  "language_info": {
   "name": "python",
   "version": "3.12.9"
  }
 },
 "nbformat": 4,
 "nbformat_minor": 5
}
