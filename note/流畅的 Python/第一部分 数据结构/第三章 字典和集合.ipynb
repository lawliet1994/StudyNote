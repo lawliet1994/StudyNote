{
 "cells": [
  {
   "cell_type": "markdown",
   "id": "d111265b",
   "metadata": {},
   "source": [
    "## 3.2 字典的现代句法"
   ]
  },
  {
   "cell_type": "markdown",
   "id": "9f8bd009",
   "metadata": {},
   "source": [
    "### 3.2.1 字典推导式"
   ]
  },
  {
   "cell_type": "code",
   "execution_count": 2,
   "id": "2f15bbb9",
   "metadata": {},
   "outputs": [
    {
     "name": "stdout",
     "output_type": "stream",
     "text": [
      "{'Bangladesh': 880, 'Brazil': 55, 'China': 86, 'India': 91, 'Indonesia': 62, 'Japan': 81, 'Nigeria': 234, 'Pakistan': 92, 'Russia': 7, 'United States': 1}\n"
     ]
    }
   ],
   "source": [
    "dial_codes = [\n",
    "    (880, 'Bangladesh'), \n",
    "    (55,  'Brazil'), \n",
    "    (86,  'China'), \n",
    "    (91,  'India'), \n",
    "    (62,  'Indonesia'), \n",
    "    (81,  'Japan'), \n",
    "    (234, 'Nigeria'), \n",
    "    (92,  'Pakistan'), \n",
    "    (7,   'Russia'), \n",
    "    (1,   'United States')\n",
    "]\n",
    "country_dial = {contry:code for code,contry in dial_codes}\n",
    "print(country_dial)"
   ]
  },
  {
   "cell_type": "markdown",
   "id": "cae59486",
   "metadata": {},
   "source": [
    "### 3.2.2 映射拆包"
   ]
  },
  {
   "cell_type": "code",
   "execution_count": 3,
   "id": "0e2fa26e",
   "metadata": {},
   "outputs": [],
   "source": [
    "def test(**kwargs):\n",
    "    for key, value in kwargs.items():\n",
    "        print(f\"{key}: {value}\")"
   ]
  },
  {
   "cell_type": "code",
   "execution_count": 4,
   "id": "b6a915cc",
   "metadata": {},
   "outputs": [
    {
     "name": "stdout",
     "output_type": "stream",
     "text": [
      "x: 1\n",
      "y: 2\n",
      "z: 3\n"
     ]
    }
   ],
   "source": [
    "test(**{\"x\": 1, \"y\": 2},z=3)"
   ]
  },
  {
   "cell_type": "code",
   "execution_count": 5,
   "id": "dae5d375",
   "metadata": {},
   "outputs": [
    {
     "name": "stdout",
     "output_type": "stream",
     "text": [
      "{'x': 1, 'y': 2, 'z': 3, 'w': 4}\n"
     ]
    }
   ],
   "source": [
    "a = {\"x\": 1, \"y\": 2,**{\"z\":3, \"w\": 4}}\n",
    "print(a)"
   ]
  },
  {
   "cell_type": "markdown",
   "id": "4a7df5c9",
   "metadata": {},
   "source": [
    "### 3.2.3 使用 ｜ 合并映射"
   ]
  },
  {
   "cell_type": "code",
   "execution_count": 7,
   "id": "ee8950a8",
   "metadata": {},
   "outputs": [
    {
     "name": "stdout",
     "output_type": "stream",
     "text": [
      "{'a': 1, 'b': 5, 'c': 3, 'd': 4}\n",
      "{'a': 1, 'b': 2, 'c': 3, 'd': 4}\n"
     ]
    }
   ],
   "source": [
    "a = {\"a\": 1, \"b\": 2}\n",
    "b = {\"a\": 1, \"b\": 5,\"c\": 3, \"d\": 4}\n",
    "c = a|b\n",
    "print(c)\n",
    "d = b|a\n",
    "print(d)"
   ]
  },
  {
   "cell_type": "markdown",
   "id": "2ecf657e",
   "metadata": {},
   "source": [
    "## 3.3 使用模式匹配处理映射"
   ]
  },
  {
   "cell_type": "code",
   "execution_count": 32,
   "id": "19bdd936",
   "metadata": {},
   "outputs": [],
   "source": [
    "def match_dic_type(item: dict)->None:\n",
    "    match item:\n",
    "        case {\"age\": int(age)} if age < 28:\n",
    "            print(f\"too small\")\n",
    "        case {\"name\":str(name),\"age\":int(age),\"other\":dict(other)}:\n",
    "            print(f\"other is a dict with keys {other.keys()}\")\n",
    "        case {\"name\":str(name),\"age\":int(age),\"other\":list(other)}:\n",
    "            print(f\"other is a list with length {len(other)}\")\n",
    "        case {\"name\":str(name),\"age\":int(age)}:\n",
    "            print(f\"other is not a dict or list, name: {name}, age: {age}\")\n",
    "        case _:\n",
    "            raise UserWarning(\"Unknown type of dict\")"
   ]
  },
  {
   "cell_type": "code",
   "execution_count": 35,
   "id": "25db46f0",
   "metadata": {},
   "outputs": [
    {
     "name": "stdout",
     "output_type": "stream",
     "text": [
      "other is a dict with keys dict_keys(['key1', 'key2'])\n",
      "too small\n",
      "other is not a dict or list, name: Charlie, age: 40\n",
      "Caught an exception: Unknown type of dict\n"
     ]
    }
   ],
   "source": [
    "match_dic_type(dict(name=\"Alice\", age=30, other={\"key1\": \"value1\", \"key2\": \"value2\"}))\n",
    "match_dic_type(dict(name=\"Bob\", age=25, other=[\"item1\", \"item2\", \"item3\"]))\n",
    "match_dic_type(dict(name=\"Charlie\", age=40))\n",
    "try:\n",
    "    match_dic_type(dict(person=\"Dave\", age=35, other=\"not a dict or list\"))\n",
    "except UserWarning as e:\n",
    "    print(f\"Caught an exception: {e}\")"
   ]
  },
  {
   "cell_type": "markdown",
   "id": "a37e9a7b",
   "metadata": {},
   "source": [
    "## 3.4 映射类型的标准 API"
   ]
  },
  {
   "cell_type": "markdown",
   "id": "118d18da",
   "metadata": {},
   "source": [
    "### 3.4.1 \"可哈希\"指什么"
   ]
  },
  {
   "cell_type": "markdown",
   "id": "a90fec30",
   "metadata": {},
   "source": [
    "- 如果一个对象的哈希码在整个生命周期内永不改变（依托__hash__()方法），而且可与其他对象比较（依托__eq__()方法），那么这个对象就是可哈希的。两个可哈希对象仅当哈希码相同时相等。"
   ]
  },
  {
   "cell_type": "code",
   "execution_count": 38,
   "id": "8dcc2d7b",
   "metadata": {},
   "outputs": [
    {
     "name": "stdout",
     "output_type": "stream",
     "text": [
      "10\n",
      "-529462075801039706\n",
      "529344067295497451\n"
     ]
    }
   ],
   "source": [
    "a = 10\n",
    "print(hash(a))\n",
    "b = \"10\"\n",
    "print(hash(b))\n",
    "c = (1,2,3)\n",
    "print(hash(c))\n"
   ]
  },
  {
   "cell_type": "code",
   "execution_count": 40,
   "id": "5aefa991",
   "metadata": {},
   "outputs": [
    {
     "name": "stdout",
     "output_type": "stream",
     "text": [
      "2941677136697153642\n",
      "Cannot hash a list: unhashable type: 'list'\n"
     ]
    }
   ],
   "source": [
    "a = (1,2,(3,4,5))\n",
    "print(hash(a))\n",
    "try :\n",
    "    b = (1,2,[3,4,5])\n",
    "    print(hash(b))\n",
    "except TypeError as e:\n",
    "    print(f\"Cannot hash a list: {e}\")"
   ]
  },
  {
   "cell_type": "markdown",
   "id": "aab49a9f",
   "metadata": {},
   "source": [
    "### 3.4.2 常用映射方法概述"
   ]
  },
  {
   "cell_type": "markdown",
   "id": "ad76a615",
   "metadata": {},
   "source": [
    "### 3.4.3 插入或更新可变的值"
   ]
  },
  {
   "cell_type": "code",
   "execution_count": 43,
   "id": "c4f61c03",
   "metadata": {},
   "outputs": [
    {
     "name": "stdout",
     "output_type": "stream",
     "text": [
      "KeyError:'b'\n"
     ]
    }
   ],
   "source": [
    "a = {\"a\":1}\n",
    "try:\n",
    "    print(a['b'])\n",
    "except KeyError as e:\n",
    "    print(f'KeyError:{e}')"
   ]
  },
  {
   "cell_type": "markdown",
   "id": "834aabc6",
   "metadata": {},
   "source": [
    "#### 用 get(key) 获取字典的值,KeyError错误"
   ]
  },
  {
   "cell_type": "code",
   "execution_count": 44,
   "id": "47c929b5",
   "metadata": {},
   "outputs": [
    {
     "name": "stdout",
     "output_type": "stream",
     "text": [
      "default_value\n"
     ]
    }
   ],
   "source": [
    "print(a.get('b', 'default_value'))  # Using get to avoid KeyError"
   ]
  },
  {
   "cell_type": "markdown",
   "id": "4d3850cd",
   "metadata": {},
   "source": [
    "#### setdefault()"
   ]
  },
  {
   "cell_type": "code",
   "execution_count": 46,
   "id": "b6c05465",
   "metadata": {},
   "outputs": [
    {
     "name": "stdout",
     "output_type": "stream",
     "text": [
      "{'a': 1, 'b': [1, 2, 3]}\n"
     ]
    }
   ],
   "source": [
    "a.setdefault('b',[1,2,3])\n",
    "print(a)"
   ]
  },
  {
   "cell_type": "markdown",
   "id": "4719d3cc",
   "metadata": {},
   "source": [
    "## 3.5 自动处理缺失的键"
   ]
  },
  {
   "cell_type": "markdown",
   "id": "d18833d5",
   "metadata": {},
   "source": [
    "### 3.5.1 defaultdict 处理缺失键的另一种选择"
   ]
  },
  {
   "cell_type": "code",
   "execution_count": 49,
   "id": "58b75215",
   "metadata": {},
   "outputs": [
    {
     "name": "stdout",
     "output_type": "stream",
     "text": [
      "[1, 2]\n"
     ]
    }
   ],
   "source": [
    "from collections import defaultdict\n",
    "d = defaultdict(list)\n",
    "d['a'].append(1)\n",
    "d['a'].append(2)\n",
    "print(d['a'])"
   ]
  },
  {
   "cell_type": "markdown",
   "id": "11a2e4e6",
   "metadata": {},
   "source": [
    "### 3.5.2  \"__missing__\" 方法"
   ]
  },
  {
   "cell_type": "code",
   "execution_count": 57,
   "id": "2a72bae7",
   "metadata": {},
   "outputs": [
    {
     "name": "stdout",
     "output_type": "stream",
     "text": [
      "{'one': 1, 'two': 2}\n"
     ]
    }
   ],
   "source": [
    "class MyDict(dict):\n",
    "    def __missing__(self,key):\n",
    "        if not isinstance(key,str):\n",
    "            raise KeyError(f\"Key {key} is not a string\")\n",
    "        self[key] = f\"Default value for {key}\"\n",
    "        return self[key]\n",
    "    def get(self, key, default=None):\n",
    "        try:\n",
    "            return self[key]\n",
    "        except KeyError:\n",
    "            return default\n",
    "a = MyDict(one=1, two=2)\n",
    "print(a)"
   ]
  },
  {
   "cell_type": "code",
   "execution_count": 58,
   "id": "0a950452",
   "metadata": {},
   "outputs": [
    {
     "name": "stdout",
     "output_type": "stream",
     "text": [
      "{'one': 1, 'two': 2, 'three': 7}\n"
     ]
    }
   ],
   "source": [
    "a['three']=7\n",
    "print(a)"
   ]
  },
  {
   "cell_type": "code",
   "execution_count": 61,
   "id": "17de0763",
   "metadata": {},
   "outputs": [
    {
     "name": "stdout",
     "output_type": "stream",
     "text": [
      "{'one': 1, 'two': 2, 'three': 7, 'four': 'Default value for four'}\n"
     ]
    }
   ],
   "source": [
    "a['four']\n",
    "print(a)"
   ]
  },
  {
   "cell_type": "code",
   "execution_count": 63,
   "id": "2a394c42",
   "metadata": {},
   "outputs": [
    {
     "name": "stdout",
     "output_type": "stream",
     "text": [
      "KeyError: 'Key 10 is not a string'\n"
     ]
    }
   ],
   "source": [
    "try:\n",
    "    a[10]\n",
    "except KeyError as e:\n",
    "    print(f\"KeyError: {e}\")"
   ]
  },
  {
   "cell_type": "markdown",
   "id": "ab50754e",
   "metadata": {},
   "source": [
    "### 3.5.3 标准库对__missing__方法的使用不一致"
   ]
  },
  {
   "cell_type": "code",
   "execution_count": null,
   "id": "cc9d48a6",
   "metadata": {},
   "outputs": [],
   "source": []
  },
  {
   "cell_type": "markdown",
   "id": "39b083eb",
   "metadata": {},
   "source": [
    "## 3.6 dict 的变体"
   ]
  },
  {
   "cell_type": "markdown",
   "id": "19a5d863",
   "metadata": {},
   "source": [
    "### 3.6.1 collections.OrderedDict"
   ]
  },
  {
   "cell_type": "markdown",
   "id": "70f81e8d",
   "metadata": {},
   "source": [
    "### 3.6.2 collections.ChainMap"
   ]
  },
  {
   "cell_type": "code",
   "execution_count": null,
   "id": "feddb33a",
   "metadata": {},
   "outputs": [],
   "source": []
  }
 ],
 "metadata": {
  "kernelspec": {
   "display_name": "studynote (3.12.9)",
   "language": "python",
   "name": "python3"
  },
  "language_info": {
   "codemirror_mode": {
    "name": "ipython",
    "version": 3
   },
   "file_extension": ".py",
   "mimetype": "text/x-python",
   "name": "python",
   "nbconvert_exporter": "python",
   "pygments_lexer": "ipython3",
   "version": "3.12.9"
  }
 },
 "nbformat": 4,
 "nbformat_minor": 5
}
