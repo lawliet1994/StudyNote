{
 "cells": [
  {
   "cell_type": "markdown",
   "id": "c31350ae",
   "metadata": {},
   "source": [
    "# 面向对象"
   ]
  },
  {
   "cell_type": "markdown",
   "id": "3e42eeb9",
   "metadata": {},
   "source": [
    "## 类"
   ]
  },
  {
   "cell_type": "code",
   "execution_count": 1,
   "id": "e6345886",
   "metadata": {},
   "outputs": [],
   "source": [
    "class User:\n",
    "    def __init__(self, name, age):\n",
    "        self.name = name\n",
    "        self.age = age\n",
    "\n",
    "    def __str__(self):\n",
    "        return f\"{self.name} is {self.age} years old.\"\n",
    "    \n",
    "    def __repr__(self):\n",
    "        return f\"User('{self.name}', {self.age})\"\n",
    "    def __iter__(self):\n",
    "        yield self.name\n",
    "        yield self.age\n",
    "\n",
    "\n",
    "    def greet(self):\n",
    "        print(f\"Hello, my name is {self.name} and I am {self.age} years old.\")"
   ]
  },
  {
   "cell_type": "code",
   "execution_count": 2,
   "id": "2fd6907b",
   "metadata": {},
   "outputs": [
    {
     "name": "stdout",
     "output_type": "stream",
     "text": [
      "Hello, my name is Alice and I am 30 years old.\n"
     ]
    }
   ],
   "source": [
    "li = User(\"Alice\", 30)\n",
    "li.greet()\n"
   ]
  },
  {
   "cell_type": "code",
   "execution_count": null,
   "id": "cab77022",
   "metadata": {},
   "outputs": [
    {
     "name": "stdout",
     "output_type": "stream",
     "text": [
      "Alice is 30 years old.\n"
     ]
    }
   ],
   "source": [
    "print(li)"
   ]
  },
  {
   "cell_type": "code",
   "execution_count": 4,
   "id": "d4fb049c",
   "metadata": {},
   "outputs": [
    {
     "name": "stdout",
     "output_type": "stream",
     "text": [
      "Alice\n",
      "30\n"
     ]
    }
   ],
   "source": [
    "for i in li:\n",
    "    print(i)"
   ]
  },
  {
   "cell_type": "code",
   "execution_count": 6,
   "id": "4ee429c9",
   "metadata": {},
   "outputs": [
    {
     "name": "stdout",
     "output_type": "stream",
     "text": [
      "065a523d-90dc-40e9-bfce-564addefe770\n"
     ]
    }
   ],
   "source": [
    "import uuid\n",
    "a = uuid.uuid4()\n",
    "print(a)"
   ]
  }
 ],
 "metadata": {
  "kernelspec": {
   "display_name": "studynote (3.12.9)",
   "language": "python",
   "name": "python3"
  },
  "language_info": {
   "codemirror_mode": {
    "name": "ipython",
    "version": 3
   },
   "file_extension": ".py",
   "mimetype": "text/x-python",
   "name": "python",
   "nbconvert_exporter": "python",
   "pygments_lexer": "ipython3",
   "version": "3.12.9"
  }
 },
 "nbformat": 4,
 "nbformat_minor": 5
}
