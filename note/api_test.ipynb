{
 "cells": [
  {
   "cell_type": "markdown",
   "id": "807d9813",
   "metadata": {},
   "source": [
    "## server 酱"
   ]
  },
  {
   "cell_type": "code",
   "execution_count": 2,
   "id": "63f274df",
   "metadata": {},
   "outputs": [
    {
     "name": "stdout",
     "output_type": "stream",
     "text": [
      "Message sent successfully.\n"
     ]
    }
   ],
   "source": [
    "import requests\n",
    "SEND_KEY = \"SCT280191TA-TriKUEDBi0dk1VEE6OSX2KaU\"\n",
    "\n",
    "url = f\"https://sctapi.ftqq.com/{SEND_KEY}.send\"\n",
    "def send_message(title, content):\n",
    "    data = {\n",
    "        \"title\": title,\n",
    "        \"desp\": content\n",
    "    }\n",
    "    try:\n",
    "        response = requests.post(url, data=data)\n",
    "        response.raise_for_status()\n",
    "        print(\"Message sent successfully.\")\n",
    "    except requests.exceptions.RequestException as e:\n",
    "        print(f\"Error sending message: {e}\")\n",
    "title = \"Test Message\"\n",
    "content = \"This is a test message from the script.\"\n",
    "send_message(title, content)\n"
   ]
  },
  {
   "cell_type": "markdown",
   "id": "f0f8ae2f",
   "metadata": {},
   "source": [
    "## ollama"
   ]
  },
  {
   "cell_type": "code",
   "execution_count": 20,
   "id": "04a88908",
   "metadata": {},
   "outputs": [
    {
     "name": "stdout",
     "output_type": "stream",
     "text": [
      "<think>\n",
      "Okay, the user is asking for the capital of France. Let me think. I know that France is a country in Europe. The capital is a city that's the seat of government. I remember that Paris is the capital of France. But wait, let me make sure I'm not mixing it up with another country. For example, the capital of Spain is Madrid, and Germany has Berlin. So, France's capital is definitely Paris. I should also consider if there's any recent change, but I don't think there has been any. Paris is the capital and the largest city. Yeah, that's right. So the answer is Paris.\n",
      "</think>\n",
      "\n",
      "The capital of France is **Paris**. It is also the largest city in France and serves as the country's political, economic, and cultural center."
     ]
    }
   ],
   "source": [
    "from ollama import Client\n",
    "o = Client(host=\"http://100.71.12.32:11434\")\n",
    "result = o.chat(\n",
    "    model=\"qwen3\",\n",
    "    messages=[\n",
    "        {\"role\": \"system\", \"content\": \"You are a helpful assistant.\"},\n",
    "        {\"role\": \"user\", \"content\": \"What is the capital of France?\"},\n",
    "    ],\n",
    "    stream=1,\n",
    ")\n",
    "# print(result)\n",
    "for chunk in result:\n",
    "    #print(chunk)\n",
    "    if chunk.message.get(\"role\") == \"assistant\":\n",
    "            print(chunk.message.content,end='')\n"
   ]
  },
  {
   "cell_type": "markdown",
   "id": "4110b6c4",
   "metadata": {},
   "source": [
    "### 多模态图像模型"
   ]
  },
  {
   "cell_type": "code",
   "execution_count": 29,
   "id": "1edf6594",
   "metadata": {},
   "outputs": [
    {
     "name": "stdout",
     "output_type": "stream",
     "text": [
      "Encoded image string: /9j/4AAQSkZJRgABAQAAkACQAAD/4QCMRXhpZgAATU0AKgAAAA...\n"
     ]
    }
   ],
   "source": [
    "import base64\n",
    "\n",
    "from streamlit import image\n",
    "def encode_image_to_base64(image_path):\n",
    "    with open(image_path, \"rb\") as image_file:\n",
    "        encoded_string = base64.b64encode(image_file.read()).decode('utf-8')\n",
    "    return encoded_string\n",
    "image_path = \"/Users/deerbai/projects/github/StudyNote/static/imgs/图片 1.jpg\"  # Replace with your image path\n",
    "encoded_string = encode_image_to_base64(image_path)\n",
    "print(f\"Encoded image string: {encoded_string[:50]}...\")  # Print first 50 characters for brevity"
   ]
  },
  {
   "cell_type": "code",
   "execution_count": 28,
   "id": "646ea005",
   "metadata": {},
   "outputs": [
    {
     "name": "stdout",
     "output_type": "stream",
     "text": [
      "这张图片展示了一个标志和一些汉字。标志由三个颜色不同的弧形组成，分别是绿色、蓝色和橙色，形成了一个圆形的图案。标志的右侧是一行汉字，从左到右依次是“黑灯灯工厂”。这些汉字是蓝色的，背景是白色的。整体设计简洁明了，颜色搭配鲜明。"
     ]
    }
   ],
   "source": [
    "from ollama import Client\n",
    "o = Client(host=\"http://100.71.12.32:11434\")\n",
    "result = o.chat(\n",
    "    model=\"qwen2.5vl\",\n",
    "    messages=[\n",
    "        {\"role\": \"system\", \"content\": \"You are a helpful assistant.\"},\n",
    "        {\n",
    "            \"role\": \"user\", \n",
    "            \"content\": \"描述一下这张图片?\",\n",
    "            \"images\": [encoded_string],\n",
    "        },\n",
    "    ],\n",
    "    stream=1,\n",
    ")\n",
    "# print(result)\n",
    "for chunk in result:\n",
    "    #print(chunk)\n",
    "    if chunk.message.get(\"role\") == \"assistant\":\n",
    "            print(chunk.message.content,end='')"
   ]
  }
 ],
 "metadata": {
  "kernelspec": {
   "display_name": "studynote (3.12.9)",
   "language": "python",
   "name": "python3"
  },
  "language_info": {
   "codemirror_mode": {
    "name": "ipython",
    "version": 3
   },
   "file_extension": ".py",
   "mimetype": "text/x-python",
   "name": "python",
   "nbconvert_exporter": "python",
   "pygments_lexer": "ipython3",
   "version": "3.12.9"
  }
 },
 "nbformat": 4,
 "nbformat_minor": 5
}
