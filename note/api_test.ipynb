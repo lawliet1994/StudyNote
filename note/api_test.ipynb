{
 "cells": [
  {
   "cell_type": "code",
   "execution_count": 2,
   "id": "63f274df",
   "metadata": {},
   "outputs": [
    {
     "name": "stdout",
     "output_type": "stream",
     "text": [
      "Message sent successfully.\n"
     ]
    }
   ],
   "source": [
    "import requests\n",
    "SEND_KEY = \"SCT280191TA-TriKUEDBi0dk1VEE6OSX2KaU\"\n",
    "\n",
    "url = f\"https://sctapi.ftqq.com/{SEND_KEY}.send\"\n",
    "def send_message(title, content):\n",
    "    data = {\n",
    "        \"title\": title,\n",
    "        \"desp\": content\n",
    "    }\n",
    "    try:\n",
    "        response = requests.post(url, data=data)\n",
    "        response.raise_for_status()\n",
    "        print(\"Message sent successfully.\")\n",
    "    except requests.exceptions.RequestException as e:\n",
    "        print(f\"Error sending message: {e}\")\n",
    "title = \"Test Message\"\n",
    "content = \"This is a test message from the script.\"\n",
    "send_message(title, content)\n"
   ]
  }
 ],
 "metadata": {
  "kernelspec": {
   "display_name": "studynote (3.12.9)",
   "language": "python",
   "name": "python3"
  },
  "language_info": {
   "codemirror_mode": {
    "name": "ipython",
    "version": 3
   },
   "file_extension": ".py",
   "mimetype": "text/x-python",
   "name": "python",
   "nbconvert_exporter": "python",
   "pygments_lexer": "ipython3",
   "version": "3.12.9"
  }
 },
 "nbformat": 4,
 "nbformat_minor": 5
}
