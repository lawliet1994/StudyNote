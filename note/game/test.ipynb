{
 "cells": [
  {
   "cell_type": "markdown",
   "id": "6ec0bf83",
   "metadata": {},
   "source": [
    "## 属性系统"
   ]
  },
  {
   "cell_type": "markdown",
   "id": "336a0d69",
   "metadata": {},
   "source": [
    "### 初始化人物"
   ]
  },
  {
   "cell_type": "code",
   "execution_count": 20,
   "id": "81acd34a",
   "metadata": {},
   "outputs": [],
   "source": [
    "class Character:\n",
    "    def __init__(self,name,level,demission_health:dict|None):\n",
    "        # 初始化角色的属性\n",
    "        self.name = name\n",
    "        self.level = level\n",
    "        if demission_health is None:\n",
    "            demission_health = {\n",
    "                'hp': 100,  # 生命值\n",
    "                'mp': 50,   # 魔法值\n",
    "                'atk': 10,  # 攻击力\n",
    "                'def': 5,   # 防御力\n",
    "                'luck': 0.01   # 幸运值\n",
    "            }\n",
    "        self.demission_health = demission_health\n",
    "        self.MAX_HP = demission_health['hp']\n",
    "    def __str__(self):\n",
    "        return f\"你是{self.name}, (Level {self.level}, HP {self.demission_health['hp']}, MP {self.demission_health['mp']}, ATK {self.demission_health['atk']}, DEF {self.demission_health['def']}, LUCK {self.demission_health['luck']})\"\n",
    "    def is_alive(self)-> bool:\n",
    "        # 判断角色是否存活，返回True 或 False\n",
    "        return self.demission_health['hp'] > 0\n",
    "    def take_damage(self, damage: int):\n",
    "        # 根据幸运值调整可能受伤的几率\n",
    "        import random\n",
    "        chance = random.random()\n",
    "        print(f\"{chance}\")\n",
    "        if chance < self.demission_health['luck']:\n",
    "            print(f\"{self.name} 避免了伤害！\")\n",
    "            return\n",
    "        # 角色受到伤害，减少生命值\n",
    "        self.demission_health['hp'] -= max(0, damage - self.demission_health['def']) # 防御力抵消部分伤害\n",
    "        if self.demission_health['hp'] < 0:\n",
    "            self.demission_health['hp'] = 0\n",
    "        print(f\"{self.name} 受到了 {damage} 点伤害，剩余生命值: {self.demission_health['hp']}\")\n",
    "    def heal(self,amount:int):\n",
    "        # 角色恢复生命值\n",
    "        self.demission_health['hp'] += amount\n",
    "        if self.demission_health['hp'] > self.MAX_HP:\n",
    "            self.demission_health['hp'] = self.MAX_HP\n",
    "        print(f\"{self.name} 恢复了 {amount} 点生命值，当前生命值: {self.demission_health['hp']}\")\n"
   ]
  },
  {
   "cell_type": "code",
   "execution_count": 21,
   "id": "d885bec2",
   "metadata": {},
   "outputs": [
    {
     "name": "stdout",
     "output_type": "stream",
     "text": [
      "你是李四, (Level 1, HP 120, MP 60, ATK 15, DEF 10, LUCK 0.09)\n"
     ]
    },
    {
     "data": {
      "text/plain": [
       "True"
      ]
     },
     "execution_count": 21,
     "metadata": {},
     "output_type": "execute_result"
    }
   ],
   "source": [
    "li = Character(\"李四\", 1, {'hp': 120, 'mp': 60, 'atk': 15, 'def': 10, 'luck': 0.09})\n",
    "print(li)\n",
    "li.is_alive()  # 检查角色是否存活"
   ]
  },
  {
   "cell_type": "code",
   "execution_count": 27,
   "id": "555e25b9",
   "metadata": {},
   "outputs": [
    {
     "name": "stdout",
     "output_type": "stream",
     "text": [
      "0.26925430557541896\n",
      "李四 受到了 20 点伤害，剩余生命值: 60\n",
      "你是李四, (Level 1, HP 60, MP 60, ATK 15, DEF 10, LUCK 0.09)\n"
     ]
    }
   ],
   "source": [
    "li.take_damage(20)  # 角色受到伤害\n",
    "print(li)"
   ]
  },
  {
   "cell_type": "code",
   "execution_count": 47,
   "id": "04860d83",
   "metadata": {},
   "outputs": [
    {
     "name": "stdout",
     "output_type": "stream",
     "text": [
      "李四 恢复了 5 点生命值，当前生命值: 120\n"
     ]
    }
   ],
   "source": [
    "li.heal(5)"
   ]
  }
 ],
 "metadata": {
  "kernelspec": {
   "display_name": "studynote (3.12.9)",
   "language": "python",
   "name": "python3"
  },
  "language_info": {
   "codemirror_mode": {
    "name": "ipython",
    "version": 3
   },
   "file_extension": ".py",
   "mimetype": "text/x-python",
   "name": "python",
   "nbconvert_exporter": "python",
   "pygments_lexer": "ipython3",
   "version": "3.12.9"
  }
 },
 "nbformat": 4,
 "nbformat_minor": 5
}
